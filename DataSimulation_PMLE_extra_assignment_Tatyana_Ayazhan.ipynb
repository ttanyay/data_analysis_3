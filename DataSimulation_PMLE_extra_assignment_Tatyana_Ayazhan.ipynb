{
  "nbformat": 4,
  "nbformat_minor": 0,
  "metadata": {
    "colab": {
      "provenance": [],
      "toc_visible": true
    },
    "kernelspec": {
      "name": "python3",
      "display_name": "Python 3"
    },
    "language_info": {
      "name": "python"
    }
  },
  "cells": [
    {
      "cell_type": "markdown",
      "source": [
        "Following 3 cells were used for saving simulated data of different sample sizes = 100, 500, 1000 to Google Drive. After that, these csv files were added to the github."
      ],
      "metadata": {
        "id": "Qua588Mz9Vmm"
      }
    },
    {
      "cell_type": "code",
      "source": [
        "import numpy as np\n",
        "import pandas as pd\n",
        "\n",
        "# Simulate data\n",
        "np.random.seed(42)\n",
        "n_students = 100\n",
        "\n",
        "# Academic performance\n",
        "G1 = np.random.randint(5, 20, n_students)\n",
        "G2 = G1 + np.random.randint(-3, 4, n_students)\n",
        "\n",
        "# Additional features\n",
        "study_time = np.random.randint(1, 15, n_students)\n",
        "chocolates_from_Gabor = np.random.randint(0, 5, n_students)\n",
        "attendance = np.random.randint(50, 101, n_students)\n",
        "sleep_hours = np.random.uniform(5, 9, n_students)\n",
        "internet_usage = np.random.uniform(1, 6, n_students)\n",
        "\n",
        "# Final grade G3\n",
        "G3 = (\n",
        "    0.25 * G1 +\n",
        "    0.3 * G2 +\n",
        "    0.2 * study_time +\n",
        "    0.5 * chocolates_from_Gabor +\n",
        "    0.1 * attendance / 10 -\n",
        "    0.2 * internet_usage +\n",
        "    0.1 * sleep_hours +\n",
        "    np.random.randn(n_students) * 2\n",
        ").round()\n",
        "\n",
        "G3 = np.clip(G3, 0, 20)\n",
        "\n",
        "# Create DataFrame\n",
        "data = pd.DataFrame({\n",
        "    'G1': G1,\n",
        "    'G2': G2,\n",
        "    'Study Time': study_time,\n",
        "    'Chocolates from Gabor': chocolates_from_Gabor,\n",
        "    'Attendance (%)': attendance,\n",
        "    'Sleep Hours': sleep_hours,\n",
        "    'Internet Usage': internet_usage,\n",
        "    'Final Grade (G3)': G3\n",
        "})\n",
        "\n",
        "# Save to Google Drive\n",
        "from google.colab import drive\n",
        "drive.mount('/content/drive')\n",
        "\n",
        "csv_path = '/content/drive/My Drive/simulated_student_data.csv'\n",
        "data.to_csv(csv_path, index=False)\n",
        "print(f\"File saved to {csv_path}\")\n",
        "\n"
      ],
      "metadata": {
        "colab": {
          "base_uri": "https://localhost:8080/"
        },
        "id": "QUbzJypl7yaT",
        "outputId": "784f98dc-aefd-40b8-a0c5-38243aadd7a4"
      },
      "execution_count": null,
      "outputs": [
        {
          "output_type": "stream",
          "name": "stdout",
          "text": [
            "Drive already mounted at /content/drive; to attempt to forcibly remount, call drive.mount(\"/content/drive\", force_remount=True).\n",
            "File saved to /content/drive/My Drive/simulated_student_data.csv\n"
          ]
        }
      ]
    },
    {
      "cell_type": "code",
      "source": [
        "import numpy as np\n",
        "import pandas as pd\n",
        "\n",
        "# Simulate data\n",
        "np.random.seed(42)\n",
        "n_students = 500\n",
        "\n",
        "# Academic performance\n",
        "G1 = np.random.randint(5, 20, n_students)\n",
        "G2 = G1 + np.random.randint(-3, 4, n_students)\n",
        "\n",
        "# Additional features\n",
        "study_time = np.random.randint(1, 15, n_students)\n",
        "chocolates_from_Gabor = np.random.randint(0, 5, n_students)\n",
        "attendance = np.random.randint(50, 101, n_students)\n",
        "sleep_hours = np.random.uniform(5, 9, n_students)\n",
        "internet_usage = np.random.uniform(1, 6, n_students)\n",
        "\n",
        "# Final grade G3\n",
        "G3 = (\n",
        "    0.25 * G1 +\n",
        "    0.3 * G2 +\n",
        "    0.2 * study_time +\n",
        "    0.5 * chocolates_from_Gabor +\n",
        "    0.1 * attendance / 10 -\n",
        "    0.2 * internet_usage +\n",
        "    0.1 * sleep_hours +\n",
        "    np.random.randn(n_students) * 2\n",
        ").round()\n",
        "\n",
        "G3 = np.clip(G3, 0, 20)\n",
        "\n",
        "# Create DataFrame\n",
        "data = pd.DataFrame({\n",
        "    'G1': G1,\n",
        "    'G2': G2,\n",
        "    'Study Time': study_time,\n",
        "    'Chocolates from Gabor': chocolates_from_Gabor,\n",
        "    'Attendance (%)': attendance,\n",
        "    'Sleep Hours': sleep_hours,\n",
        "    'Internet Usage': internet_usage,\n",
        "    'Final Grade (G3)': G3\n",
        "})\n",
        "\n",
        "# Save to Google Drive\n",
        "from google.colab import drive\n",
        "drive.mount('/content/drive')\n",
        "\n",
        "csv_path = '/content/drive/My Drive/simulated_student_data_500.csv'\n",
        "data.to_csv(csv_path, index=False)\n",
        "print(f\"File saved to {csv_path}\")\n",
        "\n"
      ],
      "metadata": {
        "colab": {
          "base_uri": "https://localhost:8080/"
        },
        "outputId": "784f98dc-aefd-40b8-a0c5-38243aadd7a4",
        "id": "JKeAUU4vIQgP"
      },
      "execution_count": null,
      "outputs": [
        {
          "output_type": "stream",
          "name": "stdout",
          "text": [
            "Drive already mounted at /content/drive; to attempt to forcibly remount, call drive.mount(\"/content/drive\", force_remount=True).\n",
            "File saved to /content/drive/My Drive/simulated_student_data.csv\n"
          ]
        }
      ]
    },
    {
      "cell_type": "code",
      "source": [
        "import numpy as np\n",
        "import pandas as pd\n",
        "\n",
        "# Simulate data\n",
        "np.random.seed(42)\n",
        "n_students = 1000\n",
        "\n",
        "# Academic performance\n",
        "G1 = np.random.randint(5, 20, n_students)\n",
        "G2 = G1 + np.random.randint(-3, 4, n_students)\n",
        "\n",
        "# Additional features\n",
        "study_time = np.random.randint(1, 15, n_students)\n",
        "chocolates_from_Gabor = np.random.randint(0, 5, n_students)\n",
        "attendance = np.random.randint(50, 101, n_students)\n",
        "sleep_hours = np.random.uniform(5, 9, n_students)\n",
        "internet_usage = np.random.uniform(1, 6, n_students)\n",
        "\n",
        "# Final grade G3\n",
        "G3 = (\n",
        "    0.25 * G1 +\n",
        "    0.3 * G2 +\n",
        "    0.2 * study_time +\n",
        "    0.5 * chocolates_from_Gabor +\n",
        "    0.1 * attendance / 10 -\n",
        "    0.2 * internet_usage +\n",
        "    0.1 * sleep_hours +\n",
        "    np.random.randn(n_students) * 2\n",
        ").round()\n",
        "\n",
        "G3 = np.clip(G3, 0, 20)\n",
        "\n",
        "# Create DataFrame\n",
        "data = pd.DataFrame({\n",
        "    'G1': G1,\n",
        "    'G2': G2,\n",
        "    'Study Time': study_time,\n",
        "    'Chocolates from Gabor': chocolates_from_Gabor,\n",
        "    'Attendance (%)': attendance,\n",
        "    'Sleep Hours': sleep_hours,\n",
        "    'Internet Usage': internet_usage,\n",
        "    'Final Grade (G3)': G3\n",
        "})\n",
        "\n",
        "# Save to Google Drive\n",
        "from google.colab import drive\n",
        "drive.mount('/content/drive')\n",
        "\n",
        "csv_path = '/content/drive/My Drive/simulated_student_data_1000.csv'\n",
        "data.to_csv(csv_path, index=False)\n",
        "print(f\"File saved to {csv_path}\")\n",
        "\n"
      ],
      "metadata": {
        "colab": {
          "base_uri": "https://localhost:8080/"
        },
        "outputId": "784f98dc-aefd-40b8-a0c5-38243aadd7a4",
        "id": "n1qiCjRzIRLx"
      },
      "execution_count": null,
      "outputs": [
        {
          "output_type": "stream",
          "name": "stdout",
          "text": [
            "Drive already mounted at /content/drive; to attempt to forcibly remount, call drive.mount(\"/content/drive\", force_remount=True).\n",
            "File saved to /content/drive/My Drive/simulated_student_data.csv\n"
          ]
        }
      ]
    }
  ]
}