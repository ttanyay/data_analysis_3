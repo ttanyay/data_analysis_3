{
 "cells": [
  {
   "cell_type": "code",
   "execution_count": 70,
   "metadata": {},
   "outputs": [],
   "source": [
    "import os\n",
    "import sys\n",
    "import warnings\n",
    "\n",
    "import numpy as np\n",
    "import pandas as pd\n",
    "import regex as re\n",
    "import statsmodels.api as sm\n",
    "import statsmodels.formula.api as smf\n",
    "from mizani.formatters import percent_format\n",
    "from plotnine import *\n",
    "import ast\n",
    "from collections import Counter\n",
    "from geopy.distance import geodesic\n",
    "from shapely.geometry import Point\n",
    "import geopandas as gpd\n",
    "import osmnx as ox\n",
    "import matplotlib.pyplot as plt\n",
    "import patsy\n",
    "\n",
    "warnings.filterwarnings(\"ignore\")"
   ]
  },
  {
   "cell_type": "code",
   "execution_count": 71,
   "metadata": {},
   "outputs": [
    {
     "name": "stdout",
     "output_type": "stream",
     "text": [
      "(17215, 75)\n"
     ]
    },
    {
     "data": {
      "text/html": [
       "<div>\n",
       "<style scoped>\n",
       "    .dataframe tbody tr th:only-of-type {\n",
       "        vertical-align: middle;\n",
       "    }\n",
       "\n",
       "    .dataframe tbody tr th {\n",
       "        vertical-align: top;\n",
       "    }\n",
       "\n",
       "    .dataframe thead th {\n",
       "        text-align: right;\n",
       "    }\n",
       "</style>\n",
       "<table border=\"1\" class=\"dataframe\">\n",
       "  <thead>\n",
       "    <tr style=\"text-align: right;\">\n",
       "      <th></th>\n",
       "      <th>id</th>\n",
       "      <th>listing_url</th>\n",
       "      <th>scrape_id</th>\n",
       "      <th>last_scraped</th>\n",
       "      <th>source</th>\n",
       "      <th>name</th>\n",
       "      <th>description</th>\n",
       "      <th>neighborhood_overview</th>\n",
       "      <th>picture_url</th>\n",
       "      <th>host_id</th>\n",
       "      <th>...</th>\n",
       "      <th>review_scores_communication</th>\n",
       "      <th>review_scores_location</th>\n",
       "      <th>review_scores_value</th>\n",
       "      <th>license</th>\n",
       "      <th>instant_bookable</th>\n",
       "      <th>calculated_host_listings_count</th>\n",
       "      <th>calculated_host_listings_count_entire_homes</th>\n",
       "      <th>calculated_host_listings_count_private_rooms</th>\n",
       "      <th>calculated_host_listings_count_shared_rooms</th>\n",
       "      <th>reviews_per_month</th>\n",
       "    </tr>\n",
       "  </thead>\n",
       "  <tbody>\n",
       "    <tr>\n",
       "      <th>0</th>\n",
       "      <td>106833</td>\n",
       "      <td>https://www.airbnb.com/rooms/106833</td>\n",
       "      <td>20240619031546</td>\n",
       "      <td>2024-06-19</td>\n",
       "      <td>city scrape</td>\n",
       "      <td>Villa with a big pool in Mallorca</td>\n",
       "      <td>NaN</td>\n",
       "      <td>NaN</td>\n",
       "      <td>https://a0.muscache.com/pictures/miso/Hosting-...</td>\n",
       "      <td>551974</td>\n",
       "      <td>...</td>\n",
       "      <td>4.91</td>\n",
       "      <td>4.48</td>\n",
       "      <td>4.7</td>\n",
       "      <td>ET/1961</td>\n",
       "      <td>f</td>\n",
       "      <td>1</td>\n",
       "      <td>1</td>\n",
       "      <td>0</td>\n",
       "      <td>0</td>\n",
       "      <td>0.16</td>\n",
       "    </tr>\n",
       "  </tbody>\n",
       "</table>\n",
       "<p>1 rows × 75 columns</p>\n",
       "</div>"
      ],
      "text/plain": [
       "       id                          listing_url       scrape_id last_scraped  \\\n",
       "0  106833  https://www.airbnb.com/rooms/106833  20240619031546   2024-06-19   \n",
       "\n",
       "        source                               name description  \\\n",
       "0  city scrape  Villa with a big pool in Mallorca         NaN   \n",
       "\n",
       "  neighborhood_overview                                        picture_url  \\\n",
       "0                   NaN  https://a0.muscache.com/pictures/miso/Hosting-...   \n",
       "\n",
       "   host_id  ... review_scores_communication review_scores_location  \\\n",
       "0   551974  ...                        4.91                   4.48   \n",
       "\n",
       "  review_scores_value  license instant_bookable  \\\n",
       "0                 4.7  ET/1961                f   \n",
       "\n",
       "  calculated_host_listings_count calculated_host_listings_count_entire_homes  \\\n",
       "0                              1                                           1   \n",
       "\n",
       "  calculated_host_listings_count_private_rooms  \\\n",
       "0                                            0   \n",
       "\n",
       "  calculated_host_listings_count_shared_rooms reviews_per_month  \n",
       "0                                           0              0.16  \n",
       "\n",
       "[1 rows x 75 columns]"
      ]
     },
     "execution_count": 71,
     "metadata": {},
     "output_type": "execute_result"
    }
   ],
   "source": [
    "file_path_q2 = r\"D:/save/Edu/CEU/Prediction with ML for Economists/Assignment 2/input/csv_gzv/listings_mallorca_q2.csv\"\n",
    "data_initial = pd.read_csv(file_path_q2, compression='gzip') #, index_col=0)\n",
    "data = data_initial.copy()\n",
    "print(data.shape)\n",
    "data.head(1)"
   ]
  },
  {
   "cell_type": "markdown",
   "metadata": {},
   "source": [
    "Checking columns and the size of dataframe"
   ]
  },
  {
   "cell_type": "code",
   "execution_count": 72,
   "metadata": {},
   "outputs": [
    {
     "data": {
      "text/plain": [
       "Index(['id', 'listing_url', 'scrape_id', 'last_scraped', 'source', 'name',\n",
       "       'description', 'neighborhood_overview', 'picture_url', 'host_id',\n",
       "       'host_url', 'host_name', 'host_since', 'host_location', 'host_about',\n",
       "       'host_response_time', 'host_response_rate', 'host_acceptance_rate',\n",
       "       'host_is_superhost', 'host_thumbnail_url', 'host_picture_url',\n",
       "       'host_neighbourhood', 'host_listings_count',\n",
       "       'host_total_listings_count', 'host_verifications',\n",
       "       'host_has_profile_pic', 'host_identity_verified', 'neighbourhood',\n",
       "       'neighbourhood_cleansed', 'neighbourhood_group_cleansed', 'latitude',\n",
       "       'longitude', 'property_type', 'room_type', 'accommodates', 'bathrooms',\n",
       "       'bathrooms_text', 'bedrooms', 'beds', 'amenities', 'price',\n",
       "       'minimum_nights', 'maximum_nights', 'minimum_minimum_nights',\n",
       "       'maximum_minimum_nights', 'minimum_maximum_nights',\n",
       "       'maximum_maximum_nights', 'minimum_nights_avg_ntm',\n",
       "       'maximum_nights_avg_ntm', 'calendar_updated', 'has_availability',\n",
       "       'availability_30', 'availability_60', 'availability_90',\n",
       "       'availability_365', 'calendar_last_scraped', 'number_of_reviews',\n",
       "       'number_of_reviews_ltm', 'number_of_reviews_l30d', 'first_review',\n",
       "       'last_review', 'review_scores_rating', 'review_scores_accuracy',\n",
       "       'review_scores_cleanliness', 'review_scores_checkin',\n",
       "       'review_scores_communication', 'review_scores_location',\n",
       "       'review_scores_value', 'license', 'instant_bookable',\n",
       "       'calculated_host_listings_count',\n",
       "       'calculated_host_listings_count_entire_homes',\n",
       "       'calculated_host_listings_count_private_rooms',\n",
       "       'calculated_host_listings_count_shared_rooms', 'reviews_per_month'],\n",
       "      dtype='object')"
      ]
     },
     "execution_count": 72,
     "metadata": {},
     "output_type": "execute_result"
    }
   ],
   "source": [
    "data.columns"
   ]
  },
  {
   "cell_type": "markdown",
   "metadata": {},
   "source": [
    "# Part 1. Data Preparation"
   ]
  },
  {
   "cell_type": "markdown",
   "metadata": {},
   "source": [
    "Checking missing variables"
   ]
  },
  {
   "cell_type": "code",
   "execution_count": 73,
   "metadata": {},
   "outputs": [
    {
     "data": {
      "text/plain": [
       "neighbourhood_group_cleansed    17215\n",
       "calendar_updated                17215\n",
       "host_neighbourhood              13809\n",
       "neighbourhood                   10550\n",
       "neighborhood_overview           10550\n",
       "host_about                       6038\n",
       "license                          5716\n",
       "host_location                    4554\n",
       "review_scores_cleanliness        4350\n",
       "review_scores_value              4349\n",
       "review_scores_accuracy           4349\n",
       "review_scores_location           4349\n",
       "review_scores_communication      4349\n",
       "review_scores_checkin            4349\n",
       "last_review                      4338\n",
       "first_review                     4338\n",
       "reviews_per_month                4338\n",
       "review_scores_rating             4338\n",
       "price                             655\n",
       "host_response_rate                636\n",
       "host_response_time                636\n",
       "description                       584\n",
       "beds                              576\n",
       "bathrooms                         570\n",
       "host_acceptance_rate              559\n",
       "host_is_superhost                 177\n",
       "has_availability                   62\n",
       "bedrooms                           34\n",
       "bathrooms_text                     15\n",
       "dtype: int64"
      ]
     },
     "execution_count": 73,
     "metadata": {},
     "output_type": "execute_result"
    }
   ],
   "source": [
    "def missing_value_summary(df):\n",
    "    columns_with_nans = [col for col in df.columns if df[col].isnull().any()]\n",
    "    missing_counts = df[columns_with_nans].isnull().sum().sort_values(ascending=False)\n",
    "    return missing_counts\n",
    "missing_value_summary(data)"
   ]
  },
  {
   "cell_type": "markdown",
   "metadata": {},
   "source": [
    "Preparing traget variable 'price'. Checking currency: if all unique price patterns contain a dollar sign"
   ]
  },
  {
   "cell_type": "code",
   "execution_count": 74,
   "metadata": {},
   "outputs": [
    {
     "name": "stdout",
     "output_type": "stream",
     "text": [
      "count    16560.000000\n",
      "mean       323.146860\n",
      "std        528.440177\n",
      "min         10.000000\n",
      "25%        148.000000\n",
      "50%        220.000000\n",
      "75%        350.000000\n",
      "max      25000.000000\n",
      "Name: price, dtype: float64\n"
     ]
    },
    {
     "data": {
      "text/plain": [
       "(16560, 75)"
      ]
     },
     "execution_count": 74,
     "metadata": {},
     "output_type": "execute_result"
    }
   ],
   "source": [
    "unique_price_patterns = data[\"price\"].dropna().unique()\n",
    "all_contain_dollar = all('$' in price for price in unique_price_patterns)\n",
    "# print(all_contain_dollar) # True\n",
    "data[\"price\"] = data[\"price\"].str.replace(\"$\", \"\").str.replace(\",\", \"\").astype(\"float\")\n",
    "\n",
    "data = data[~data.price.isna()].reset_index(drop = True)\n",
    "print(data.price.describe())\n",
    "data.shape"
   ]
  },
  {
   "cell_type": "markdown",
   "metadata": {},
   "source": [
    "## Listing and host infromation"
   ]
  },
  {
   "cell_type": "markdown",
   "metadata": {},
   "source": [
    "Change text information columns to indicators that show that there is infromation."
   ]
  },
  {
   "cell_type": "code",
   "execution_count": 75,
   "metadata": {},
   "outputs": [
    {
     "data": {
      "text/html": [
       "<div>\n",
       "<style scoped>\n",
       "    .dataframe tbody tr th:only-of-type {\n",
       "        vertical-align: middle;\n",
       "    }\n",
       "\n",
       "    .dataframe tbody tr th {\n",
       "        vertical-align: top;\n",
       "    }\n",
       "\n",
       "    .dataframe thead th {\n",
       "        text-align: right;\n",
       "    }\n",
       "</style>\n",
       "<table border=\"1\" class=\"dataframe\">\n",
       "  <thead>\n",
       "    <tr style=\"text-align: right;\">\n",
       "      <th></th>\n",
       "      <th>id</th>\n",
       "      <th>listing_url</th>\n",
       "      <th>scrape_id</th>\n",
       "      <th>last_scraped</th>\n",
       "      <th>source</th>\n",
       "      <th>name</th>\n",
       "      <th>picture_url</th>\n",
       "      <th>host_id</th>\n",
       "      <th>host_url</th>\n",
       "      <th>host_name</th>\n",
       "      <th>...</th>\n",
       "      <th>license</th>\n",
       "      <th>instant_bookable</th>\n",
       "      <th>calculated_host_listings_count</th>\n",
       "      <th>calculated_host_listings_count_entire_homes</th>\n",
       "      <th>calculated_host_listings_count_private_rooms</th>\n",
       "      <th>calculated_host_listings_count_shared_rooms</th>\n",
       "      <th>reviews_per_month</th>\n",
       "      <th>has_description</th>\n",
       "      <th>has_neighborhood_overview</th>\n",
       "      <th>has_host_about</th>\n",
       "    </tr>\n",
       "  </thead>\n",
       "  <tbody>\n",
       "    <tr>\n",
       "      <th>0</th>\n",
       "      <td>106833</td>\n",
       "      <td>https://www.airbnb.com/rooms/106833</td>\n",
       "      <td>20240619031546</td>\n",
       "      <td>2024-06-19</td>\n",
       "      <td>city scrape</td>\n",
       "      <td>Villa with a big pool in Mallorca</td>\n",
       "      <td>https://a0.muscache.com/pictures/miso/Hosting-...</td>\n",
       "      <td>551974</td>\n",
       "      <td>https://www.airbnb.com/users/show/551974</td>\n",
       "      <td>Xisco</td>\n",
       "      <td>...</td>\n",
       "      <td>ET/1961</td>\n",
       "      <td>f</td>\n",
       "      <td>1</td>\n",
       "      <td>1</td>\n",
       "      <td>0</td>\n",
       "      <td>0</td>\n",
       "      <td>0.16</td>\n",
       "      <td>0</td>\n",
       "      <td>0</td>\n",
       "      <td>1</td>\n",
       "    </tr>\n",
       "    <tr>\n",
       "      <th>1</th>\n",
       "      <td>159218</td>\n",
       "      <td>https://www.airbnb.com/rooms/159218</td>\n",
       "      <td>20240619031546</td>\n",
       "      <td>2024-06-19</td>\n",
       "      <td>city scrape</td>\n",
       "      <td>Farmhouse in Nature -ET-3025</td>\n",
       "      <td>https://a0.muscache.com/pictures/22458820/5aad...</td>\n",
       "      <td>763897</td>\n",
       "      <td>https://www.airbnb.com/users/show/763897</td>\n",
       "      <td>Gabriel</td>\n",
       "      <td>...</td>\n",
       "      <td>ET-3025 Conselleria de Turismo de Baleares</td>\n",
       "      <td>f</td>\n",
       "      <td>1</td>\n",
       "      <td>1</td>\n",
       "      <td>0</td>\n",
       "      <td>0</td>\n",
       "      <td>2.37</td>\n",
       "      <td>1</td>\n",
       "      <td>1</td>\n",
       "      <td>1</td>\n",
       "    </tr>\n",
       "    <tr>\n",
       "      <th>2</th>\n",
       "      <td>69998</td>\n",
       "      <td>https://www.airbnb.com/rooms/69998</td>\n",
       "      <td>20240619031546</td>\n",
       "      <td>2024-06-19</td>\n",
       "      <td>city scrape</td>\n",
       "      <td>COZY HIDEAWAY  LOFT... MI AMOR...</td>\n",
       "      <td>https://a0.muscache.com/pictures/6d4007c1-f223...</td>\n",
       "      <td>353156</td>\n",
       "      <td>https://www.airbnb.com/users/show/353156</td>\n",
       "      <td>Lor</td>\n",
       "      <td>...</td>\n",
       "      <td>NaN</td>\n",
       "      <td>t</td>\n",
       "      <td>2</td>\n",
       "      <td>2</td>\n",
       "      <td>0</td>\n",
       "      <td>0</td>\n",
       "      <td>1.74</td>\n",
       "      <td>1</td>\n",
       "      <td>1</td>\n",
       "      <td>1</td>\n",
       "    </tr>\n",
       "    <tr>\n",
       "      <th>3</th>\n",
       "      <td>166820</td>\n",
       "      <td>https://www.airbnb.com/rooms/166820</td>\n",
       "      <td>20240619031546</td>\n",
       "      <td>2024-06-19</td>\n",
       "      <td>city scrape</td>\n",
       "      <td>Guest House with Great sea views - Principal Room</td>\n",
       "      <td>https://a0.muscache.com/pictures/1059096/b3b02...</td>\n",
       "      <td>794829</td>\n",
       "      <td>https://www.airbnb.com/users/show/794829</td>\n",
       "      <td>Toni</td>\n",
       "      <td>...</td>\n",
       "      <td>NaN</td>\n",
       "      <td>t</td>\n",
       "      <td>4</td>\n",
       "      <td>0</td>\n",
       "      <td>4</td>\n",
       "      <td>0</td>\n",
       "      <td>1.90</td>\n",
       "      <td>0</td>\n",
       "      <td>0</td>\n",
       "      <td>1</td>\n",
       "    </tr>\n",
       "    <tr>\n",
       "      <th>4</th>\n",
       "      <td>168697</td>\n",
       "      <td>https://www.airbnb.com/rooms/168697</td>\n",
       "      <td>20240619031546</td>\n",
       "      <td>2024-06-19</td>\n",
       "      <td>city scrape</td>\n",
       "      <td>Design Self-catering home in Majorca center</td>\n",
       "      <td>https://a0.muscache.com/pictures/miso/Hosting-...</td>\n",
       "      <td>804167</td>\n",
       "      <td>https://www.airbnb.com/users/show/804167</td>\n",
       "      <td>Maria</td>\n",
       "      <td>...</td>\n",
       "      <td>NaN</td>\n",
       "      <td>t</td>\n",
       "      <td>3</td>\n",
       "      <td>3</td>\n",
       "      <td>0</td>\n",
       "      <td>0</td>\n",
       "      <td>0.48</td>\n",
       "      <td>1</td>\n",
       "      <td>1</td>\n",
       "      <td>1</td>\n",
       "    </tr>\n",
       "  </tbody>\n",
       "</table>\n",
       "<p>5 rows × 75 columns</p>\n",
       "</div>"
      ],
      "text/plain": [
       "       id                          listing_url       scrape_id last_scraped  \\\n",
       "0  106833  https://www.airbnb.com/rooms/106833  20240619031546   2024-06-19   \n",
       "1  159218  https://www.airbnb.com/rooms/159218  20240619031546   2024-06-19   \n",
       "2   69998   https://www.airbnb.com/rooms/69998  20240619031546   2024-06-19   \n",
       "3  166820  https://www.airbnb.com/rooms/166820  20240619031546   2024-06-19   \n",
       "4  168697  https://www.airbnb.com/rooms/168697  20240619031546   2024-06-19   \n",
       "\n",
       "        source                                               name  \\\n",
       "0  city scrape                  Villa with a big pool in Mallorca   \n",
       "1  city scrape                       Farmhouse in Nature -ET-3025   \n",
       "2  city scrape                  COZY HIDEAWAY  LOFT... MI AMOR...   \n",
       "3  city scrape  Guest House with Great sea views - Principal Room   \n",
       "4  city scrape        Design Self-catering home in Majorca center   \n",
       "\n",
       "                                         picture_url  host_id  \\\n",
       "0  https://a0.muscache.com/pictures/miso/Hosting-...   551974   \n",
       "1  https://a0.muscache.com/pictures/22458820/5aad...   763897   \n",
       "2  https://a0.muscache.com/pictures/6d4007c1-f223...   353156   \n",
       "3  https://a0.muscache.com/pictures/1059096/b3b02...   794829   \n",
       "4  https://a0.muscache.com/pictures/miso/Hosting-...   804167   \n",
       "\n",
       "                                   host_url host_name  ...  \\\n",
       "0  https://www.airbnb.com/users/show/551974     Xisco  ...   \n",
       "1  https://www.airbnb.com/users/show/763897   Gabriel  ...   \n",
       "2  https://www.airbnb.com/users/show/353156       Lor  ...   \n",
       "3  https://www.airbnb.com/users/show/794829      Toni  ...   \n",
       "4  https://www.airbnb.com/users/show/804167     Maria  ...   \n",
       "\n",
       "                                      license instant_bookable  \\\n",
       "0                                     ET/1961                f   \n",
       "1  ET-3025 Conselleria de Turismo de Baleares                f   \n",
       "2                                         NaN                t   \n",
       "3                                         NaN                t   \n",
       "4                                         NaN                t   \n",
       "\n",
       "  calculated_host_listings_count calculated_host_listings_count_entire_homes  \\\n",
       "0                              1                                           1   \n",
       "1                              1                                           1   \n",
       "2                              2                                           2   \n",
       "3                              4                                           0   \n",
       "4                              3                                           3   \n",
       "\n",
       "  calculated_host_listings_count_private_rooms  \\\n",
       "0                                            0   \n",
       "1                                            0   \n",
       "2                                            0   \n",
       "3                                            4   \n",
       "4                                            0   \n",
       "\n",
       "  calculated_host_listings_count_shared_rooms reviews_per_month  \\\n",
       "0                                           0              0.16   \n",
       "1                                           0              2.37   \n",
       "2                                           0              1.74   \n",
       "3                                           0              1.90   \n",
       "4                                           0              0.48   \n",
       "\n",
       "  has_description has_neighborhood_overview  has_host_about  \n",
       "0               0                         0               1  \n",
       "1               1                         1               1  \n",
       "2               1                         1               1  \n",
       "3               0                         0               1  \n",
       "4               1                         1               1  \n",
       "\n",
       "[5 rows x 75 columns]"
      ]
     },
     "execution_count": 75,
     "metadata": {},
     "output_type": "execute_result"
    }
   ],
   "source": [
    "text_columns_to_convert = ['description', 'neighborhood_overview', 'host_about']\n",
    "\n",
    "for col in text_columns_to_convert:\n",
    "    binary_col_name = f\"has_{col}\"\n",
    "    data[binary_col_name] = data[col].notnull().astype(int)\n",
    "\n",
    "data.drop(columns=text_columns_to_convert, inplace=True)\n",
    "data.head()"
   ]
  },
  {
   "cell_type": "code",
   "execution_count": 76,
   "metadata": {},
   "outputs": [],
   "source": [
    "li_dummy_columns = ['host_is_superhost', 'host_has_profile_pic', 'host_identity_verified', 'instant_bookable']\n",
    "data = pd.get_dummies(data, columns = li_dummy_columns, drop_first=True)"
   ]
  },
  {
   "cell_type": "code",
   "execution_count": 77,
   "metadata": {},
   "outputs": [
    {
     "data": {
      "text/plain": [
       "count    12481.000000\n",
       "mean      1344.731913\n",
       "std       1007.603995\n",
       "min          0.000000\n",
       "25%        442.000000\n",
       "50%       1078.000000\n",
       "75%       2116.000000\n",
       "max       4699.000000\n",
       "Name: days_since, dtype: float64"
      ]
     },
     "execution_count": 77,
     "metadata": {},
     "output_type": "execute_result"
    }
   ],
   "source": [
    "data['host_since'] = pd.to_datetime(data['host_since'], format='%Y-%m-%d')\n",
    "\n",
    "data[\"days_since\"] = pd.to_datetime(\n",
    "    data[\"calendar_last_scraped\"], format=\"%Y-%m-%d\"\n",
    ") - pd.to_datetime(data[\"first_review\"], format=\"%Y-%m-%d\")\n",
    "\n",
    "# Previous row creates a timedelta object in each row. Get the elapsed number of days like:\n",
    "data[\"days_since\"] = [x.days for x in data[\"days_since\"]]\n",
    "data[\"days_since\"].describe()\n",
    "\n",
    "# data['host_since'] = pd.to_datetime(data['host_since'], errors='coerce')\n",
    "# data['host_since_year'] = data['host_since'].dt.year\n",
    "# data = data.drop(columns=['host_since'])"
   ]
  },
  {
   "cell_type": "code",
   "execution_count": 78,
   "metadata": {},
   "outputs": [],
   "source": [
    "data[\"host_response_rate\"] = data[\"host_response_rate\"].str.rstrip('%').astype(\"float\") / 100\n",
    "data[\"host_acceptance_rate\"] = data[\"host_acceptance_rate\"].str.rstrip('%').astype(\"float\") / 100"
   ]
  },
  {
   "cell_type": "markdown",
   "metadata": {},
   "source": [
    "Extract values from the host_verifications column"
   ]
  },
  {
   "cell_type": "code",
   "execution_count": 79,
   "metadata": {},
   "outputs": [
    {
     "data": {
      "text/plain": [
       "(16560, 78)"
      ]
     },
     "execution_count": 79,
     "metadata": {},
     "output_type": "execute_result"
    }
   ],
   "source": [
    "# convert stringified lists into actual lists\n",
    "df_tmp = data.copy()\n",
    "df_tmp['host_verifications'] = df_tmp['host_verifications'].apply(\n",
    "    lambda x: ast.literal_eval(x) if isinstance(x, str) else (x if isinstance(x, list) else [])\n",
    ")\n",
    "\n",
    "# unique verification methods\n",
    "all_verifications = set()\n",
    "for items in df_tmp['host_verifications']:\n",
    "    all_verifications.update(items)\n",
    "\n",
    "# dummy columns for each verification method\n",
    "for method in all_verifications:\n",
    "    df_tmp[method] = df_tmp['host_verifications'].apply(lambda x: int(method in x))\n",
    "\n",
    "df_tmp.drop(columns=['host_verifications'], inplace=True)\n",
    "data = df_tmp\n",
    "data.shape"
   ]
  },
  {
   "cell_type": "code",
   "execution_count": null,
   "metadata": {},
   "outputs": [],
   "source": []
  },
  {
   "cell_type": "markdown",
   "metadata": {},
   "source": [
    "# Property type and room type"
   ]
  },
  {
   "cell_type": "code",
   "execution_count": 80,
   "metadata": {},
   "outputs": [
    {
     "data": {
      "text/plain": [
       "(16560, 79)"
      ]
     },
     "execution_count": 80,
     "metadata": {},
     "output_type": "execute_result"
    }
   ],
   "source": [
    "# pd.set_option(\"display.max_rows\", None)\n",
    "# print(data.property_type.value_counts())\n",
    "# pd.reset_option(\"display.max_rows\")\n",
    "\n",
    "# simplified categories\n",
    "property_type_map = {\n",
    "    # Main residential types\n",
    "    \"Entire rental unit\": \"Apartment\",\n",
    "    \"Entire condo\": \"Apartment\",\n",
    "    \"Entire serviced apartment\": \"Apartment\",\n",
    "    \"Entire loft\": \"Loft\",\n",
    "    \"Entire villa\": \"Villa\",\n",
    "    \"Entire home\": \"House\",\n",
    "    \"Entire townhouse\": \"House\",\n",
    "    \"Entire cottage\": \"Cottage\",\n",
    "    \"Entire chalet\": \"Chalet\",\n",
    "    \"Entire guesthouse\": \"Guesthouse\",\n",
    "    \"Entire guest suite\": \"Guest Suite\",\n",
    "    \"Entire vacation home\": \"Vacation Home\",\n",
    "    \"Entire bungalow\": \"Bungalow\",\n",
    "    \"Entire cabin\": \"Cabin\",\n",
    "    \"Entire place\": \"Other\",  # ambiguous label\n",
    "\n",
    "    # Shared/Private stays\n",
    "    \"Private room in rental unit\": \"Private\",\n",
    "    \"Private room in home\": \"Private\",\n",
    "    \"Private room in condo\": \"Private\",\n",
    "    \"Private room in chalet\": \"Private\",\n",
    "    \"Private room in serviced apartment\": \"Private\",\n",
    "    \"Private room in cottage\": \"Private\",\n",
    "    \"Private room in townhouse\": \"Private\",\n",
    "    \"Private room in villa\": \"Private\",\n",
    "    \"Private room in loft\": \"Private\",\n",
    "    \"Private room in guesthouse\": \"Private\",\n",
    "    \"Private room in guest suite\": \"Private\",\n",
    "    \"Private room in bed and breakfast\": \"Private\",\n",
    "    \"Private room in vacation home\": \"Private\",\n",
    "    \"Private room in casa particular\": \"Private\",\n",
    "    \"Private room in tiny home\": \"Private\",\n",
    "    \"Private room in hostel\": \"Private\",\n",
    "    \"Private room in earthen home\": \"Private\",\n",
    "    \"Private room in cabin\": \"Private\",\n",
    "    \"Private room in nature lodge\": \"Private\",\n",
    "    \"Private room in island\": \"Private\",\n",
    "    \"Private room in boat\": \"Private\",\n",
    "    \"Private room\": \"Private\",\n",
    "\n",
    "    # Shared rooms\n",
    "    \"Shared room in rental unit\": \"Shared\",\n",
    "    \"Shared room in home\": \"Shared\",\n",
    "    \"Shared room in hostel\": \"Shared\",\n",
    "    \"Shared room in loft\": \"Shared\",\n",
    "\n",
    "    # Hotel-type listings\n",
    "    \"Room in hotel\": \"Hotel\",\n",
    "    \"Room in serviced apartment\": \"Hotel\",\n",
    "    \"Room in boutique hotel\": \"Hotel\",\n",
    "    \"Room in aparthotel\": \"Hotel\",\n",
    "    \"Room in bed and breakfast\": \"Hotel\",\n",
    "    \"Room in heritage hotel\": \"Hotel\",\n",
    "\n",
    "    # Unique/Niche\n",
    "    \"Boat\": \"Unique\",\n",
    "    \"Houseboat\": \"Unique\",\n",
    "    \"Tent\": \"Unique\",\n",
    "    \"Treehouse\": \"Unique\",\n",
    "    \"Yurt\": \"Unique\",\n",
    "    \"Island\": \"Unique\",\n",
    "    \"Campsite\": \"Unique\",\n",
    "    \"Tiny home\": \"Unique\",\n",
    "    \"Windmill\": \"Unique\",\n",
    "    \"Castle\": \"Unique\",\n",
    "    \"Farm stay\": \"Unique\",\n",
    "    \"Room in nature lodge\": \"Unique\",\n",
    "    \"Earthen home\": \"Unique\",\n",
    "    \"Casa particular\": \"Unique\",\n",
    "}\n",
    "\n",
    "data[\"property_type\"] = data[\"property_type\"].map(property_type_map).fillna(\"Other\")\n",
    "data[\"property_type\"] = data[\"property_type\"].astype(\"category\")\n",
    "\n",
    "# room type variables\n",
    "data[\"room_type\"] = data[\"room_type\"].astype(\"category\")\n",
    "\n",
    "# simplified version for modeling\n",
    "data[\"room_type2\"] = (\n",
    "    data[\"room_type\"]\n",
    "    .replace({\n",
    "        \"Entire home/apt\": \"Entire/Apt\",\n",
    "        \"Private room\": \"Private\",\n",
    "        \"Shared room\": \"Shared\",\n",
    "    })\n",
    "    .astype(\"category\")\n",
    ")\n",
    "data.shape"
   ]
  },
  {
   "cell_type": "code",
   "execution_count": 81,
   "metadata": {},
   "outputs": [
    {
     "data": {
      "text/plain": [
       "Villa            5071\n",
       "House            4856\n",
       "Apartment        3625\n",
       "Private           900\n",
       "Cottage           769\n",
       "Chalet            406\n",
       "Hotel             372\n",
       "Other             141\n",
       "Unique            136\n",
       "Vacation Home      89\n",
       "Loft               63\n",
       "Guesthouse         47\n",
       "Bungalow           39\n",
       "Guest Suite        23\n",
       "Cabin              12\n",
       "Shared             11\n",
       "Name: property_type, dtype: int64"
      ]
     },
     "execution_count": 81,
     "metadata": {},
     "output_type": "execute_result"
    }
   ],
   "source": [
    "data[\"property_type\"].value_counts()"
   ]
  },
  {
   "cell_type": "code",
   "execution_count": 82,
   "metadata": {},
   "outputs": [
    {
     "data": {
      "text/plain": [
       "Entire/Apt    15263\n",
       "Private        1217\n",
       "Hotel room       69\n",
       "Shared           11\n",
       "Name: room_type2, dtype: int64"
      ]
     },
     "execution_count": 82,
     "metadata": {},
     "output_type": "execute_result"
    }
   ],
   "source": [
    "data[\"room_type2\"].value_counts()"
   ]
  },
  {
   "cell_type": "code",
   "execution_count": 83,
   "metadata": {},
   "outputs": [],
   "source": [
    "room_type_map = {\n",
    "    \"Entire home/apt\": \"rt_entire\",\n",
    "    \"Private room\": \"rt_private\",\n",
    "    \"Hotel room\": \"rt_hotel\",\n",
    "    \"Shared room\": \"rt_shared\"\n",
    "}\n",
    "\n",
    "# Map room_type to simplified labels\n",
    "data[\"room_type_clean\"] = data[\"room_type\"].map(room_type_map)\n",
    "\n",
    "# Create dummy columns with those clean names\n",
    "room_dummies = pd.get_dummies(data[\"room_type_clean\"])\n",
    "\n",
    "# Merge with original data\n",
    "data = pd.concat([data, room_dummies], axis=1)"
   ]
  },
  {
   "cell_type": "markdown",
   "metadata": {},
   "source": [
    "# Distance to Palma Center"
   ]
  },
  {
   "cell_type": "markdown",
   "metadata": {},
   "source": [
    "Compute the distance from each airbnb to Palma City Center and also to the closest coast line."
   ]
  },
  {
   "cell_type": "code",
   "execution_count": 84,
   "metadata": {},
   "outputs": [
    {
     "data": {
      "image/png": "[encoded data removed]",
      "text/plain": [
       "<Figure size 400x400 with 1 Axes>"
      ]
     },
     "metadata": {},
     "output_type": "display_data"
    }
   ],
   "source": [
    "# Mallorca polygon\n",
    "mallorca = ox.geocode_to_gdf(\"Mallorca, Spain\")\n",
    "\n",
    "fig, ax = plt.subplots(figsize=(4, 4))\n",
    "mallorca.plot(edgecolor='black', facecolor='lightblue', ax=ax)\n",
    "ax.set_title(\"Mallorca Boundary\")\n",
    "plt.show()\n"
   ]
  },
  {
   "cell_type": "code",
   "execution_count": 85,
   "metadata": {},
   "outputs": [
    {
     "data": {
      "text/plain": [
       "count    16560.000000\n",
       "mean         5.699267\n",
       "std          7.288251\n",
       "min          0.000002\n",
       "25%          0.322199\n",
       "50%          1.906211\n",
       "75%          9.377459\n",
       "max         30.643894\n",
       "Name: dist_to_coast_km, dtype: float64"
      ]
     },
     "execution_count": 85,
     "metadata": {},
     "output_type": "execute_result"
    }
   ],
   "source": [
    "geometry = [Point(xy) for xy in zip(data['longitude'], data['latitude'])]\n",
    "data = gpd.GeoDataFrame(data, geometry=geometry, crs=\"EPSG:4326\")\n",
    "\n",
    "data = data.to_crs(epsg=3857)\n",
    "mallorca = mallorca.to_crs(epsg=3857)\n",
    "mallorca_boundary = mallorca.geometry.iloc[0].boundary\n",
    "data['dist_to_coast_km'] = data.geometry.distance(mallorca_boundary) / 1000  # meters to km\n",
    "data['dist_to_coast_km'].describe()"
   ]
  },
  {
   "cell_type": "code",
   "execution_count": 86,
   "metadata": {},
   "outputs": [
    {
     "data": {
      "text/plain": [
       "count    16560.000000\n",
       "mean        38.916256\n",
       "std         17.744408\n",
       "min          0.005617\n",
       "25%         25.679057\n",
       "50%         45.782244\n",
       "75%         51.578499\n",
       "max         72.472293\n",
       "Name: dist_to_palma, dtype: float64"
      ]
     },
     "execution_count": 86,
     "metadata": {},
     "output_type": "execute_result"
    }
   ],
   "source": [
    "# Coordinates of Palma city center\n",
    "palma_coords = (39.5696, 2.6502)\n",
    "\n",
    "data['dist_to_palma'] = data.apply(\n",
    "    lambda row: geodesic((row['latitude'], row['longitude']), palma_coords).kilometers,\n",
    "    axis=1\n",
    ")\n",
    "\n",
    "data = data.drop(columns=['latitude', 'longitude'])\n",
    "\n",
    "data['dist_to_palma'].describe()"
   ]
  },
  {
   "cell_type": "markdown",
   "metadata": {},
   "source": [
    "## Amenities"
   ]
  },
  {
   "cell_type": "markdown",
   "metadata": {},
   "source": [
    "Extract the top 50 common values from the amenities column"
   ]
  },
  {
   "cell_type": "code",
   "execution_count": 87,
   "metadata": {},
   "outputs": [
    {
     "data": {
      "text/plain": [
       "(16560, 134)"
      ]
     },
     "execution_count": 87,
     "metadata": {},
     "output_type": "execute_result"
    }
   ],
   "source": [
    "import ast\n",
    "from collections import Counter\n",
    "import re\n",
    "\n",
    "df_tmp = data.copy()\n",
    "\n",
    "# convert stringified lists into actual lists\n",
    "for col in ['amenities']:\n",
    "    df_tmp[col] = df_tmp[col].apply(\n",
    "        lambda x: ast.literal_eval(x) if isinstance(x, str) else (x if isinstance(x, list) else [])\n",
    "    )\n",
    "\n",
    "# count frequency of all values across amenities\n",
    "counter = Counter()\n",
    "for col in ['amenities']:\n",
    "    for items in df_tmp[col]:\n",
    "        counter.update(items)\n",
    "\n",
    "# top 50 most common values\n",
    "top_values = set([item for item, _ in counter.most_common(50)])\n",
    "\n",
    "# function to clean names: lowercase, replace spaces with underscores, remove special chars\n",
    "def clean_name(name):\n",
    "    name = name.lower().strip()\n",
    "    name = re.sub(r\"[^\\w\\s]\", \"\", name)  # remove punctuation\n",
    "    name = re.sub(r\"\\s+\", \"_\", name)     # replace spaces with underscores\n",
    "    return name\n",
    "\n",
    "# dummy columns for each of the top 50 values, using cleaned names\n",
    "for value in top_values:\n",
    "    cleaned_col_name = clean_name(value)\n",
    "    df_tmp[cleaned_col_name] = df_tmp[['amenities']].apply(\n",
    "        lambda row: int(any(value in entry for entry in row)), axis=1\n",
    "    )\n",
    "\n",
    "# drop original amenities column\n",
    "df_tmp.drop(columns=['amenities'], inplace=True)\n",
    "data = df_tmp\n",
    "data.shape\n"
   ]
  },
  {
   "cell_type": "markdown",
   "metadata": {},
   "source": [
    "## Missing values"
   ]
  },
  {
   "cell_type": "code",
   "execution_count": 88,
   "metadata": {},
   "outputs": [
    {
     "data": {
      "text/plain": [
       "neighbourhood_group_cleansed    16560\n",
       "calendar_updated                16560\n",
       "host_neighbourhood              13325\n",
       "neighbourhood                   10144\n",
       "license                          5424\n",
       "host_location                    4332\n",
       "review_scores_value              4090\n",
       "review_scores_location           4090\n",
       "review_scores_communication      4090\n",
       "review_scores_checkin            4090\n",
       "review_scores_cleanliness        4090\n",
       "review_scores_accuracy           4090\n",
       "review_scores_rating             4079\n",
       "reviews_per_month                4079\n",
       "days_since                       4079\n",
       "last_review                      4079\n",
       "first_review                     4079\n",
       "host_response_time                598\n",
       "host_response_rate                598\n",
       "host_acceptance_rate              529\n",
       "has_availability                   48\n",
       "bathrooms_text                     15\n",
       "beds                               12\n",
       "bathrooms                           6\n",
       "bedrooms                            4\n",
       "dtype: int64"
      ]
     },
     "execution_count": 88,
     "metadata": {},
     "output_type": "execute_result"
    }
   ],
   "source": [
    "missing_value_summary(data)"
   ]
  },
  {
   "cell_type": "code",
   "execution_count": 89,
   "metadata": {
    "vscode": {
     "languageId": "powershell"
    }
   },
   "outputs": [
    {
     "data": {
      "text/plain": [
       "host_location                    object\n",
       "host_response_time               object\n",
       "host_response_rate              float64\n",
       "host_acceptance_rate            float64\n",
       "host_neighbourhood               object\n",
       "neighbourhood                    object\n",
       "neighbourhood_group_cleansed    float64\n",
       "bathrooms                       float64\n",
       "bathrooms_text                   object\n",
       "bedrooms                        float64\n",
       "beds                            float64\n",
       "calendar_updated                float64\n",
       "has_availability                 object\n",
       "first_review                     object\n",
       "last_review                      object\n",
       "review_scores_rating            float64\n",
       "review_scores_accuracy          float64\n",
       "review_scores_cleanliness       float64\n",
       "review_scores_checkin           float64\n",
       "review_scores_communication     float64\n",
       "review_scores_location          float64\n",
       "review_scores_value             float64\n",
       "license                          object\n",
       "reviews_per_month               float64\n",
       "days_since                      float64\n",
       "dtype: object"
      ]
     },
     "execution_count": 89,
     "metadata": {},
     "output_type": "execute_result"
    }
   ],
   "source": [
    "missing_columns = data.columns[data.isnull().any()]\n",
    "data[missing_columns].dtypes"
   ]
  },
  {
   "cell_type": "markdown",
   "metadata": {},
   "source": [
    "Drop the columns that are not relevant for analysis"
   ]
  },
  {
   "cell_type": "code",
   "execution_count": 90,
   "metadata": {
    "vscode": {
     "languageId": "powershell"
    }
   },
   "outputs": [],
   "source": [
    "data0 = data.copy()"
   ]
  },
  {
   "cell_type": "code",
   "execution_count": 91,
   "metadata": {},
   "outputs": [
    {
     "data": {
      "text/html": [
       "<div>\n",
       "<style scoped>\n",
       "    .dataframe tbody tr th:only-of-type {\n",
       "        vertical-align: middle;\n",
       "    }\n",
       "\n",
       "    .dataframe tbody tr th {\n",
       "        vertical-align: top;\n",
       "    }\n",
       "\n",
       "    .dataframe thead th {\n",
       "        text-align: right;\n",
       "    }\n",
       "</style>\n",
       "<table border=\"1\" class=\"dataframe\">\n",
       "  <thead>\n",
       "    <tr style=\"text-align: right;\">\n",
       "      <th></th>\n",
       "      <th>host_response_rate</th>\n",
       "      <th>host_acceptance_rate</th>\n",
       "      <th>host_listings_count</th>\n",
       "      <th>host_total_listings_count</th>\n",
       "      <th>accommodates</th>\n",
       "      <th>bathrooms</th>\n",
       "      <th>bedrooms</th>\n",
       "      <th>beds</th>\n",
       "      <th>price</th>\n",
       "      <th>minimum_nights</th>\n",
       "      <th>...</th>\n",
       "      <th>fire_extinguisher</th>\n",
       "      <th>extra_pillows_and_blankets</th>\n",
       "      <th>hair_dryer</th>\n",
       "      <th>bed_linens</th>\n",
       "      <th>hot_water_kettle</th>\n",
       "      <th>bathtub</th>\n",
       "      <th>private_patio_or_balcony</th>\n",
       "      <th>lockbox</th>\n",
       "      <th>private_entrance</th>\n",
       "      <th>tv</th>\n",
       "    </tr>\n",
       "  </thead>\n",
       "  <tbody>\n",
       "    <tr>\n",
       "      <th>0</th>\n",
       "      <td>1.0</td>\n",
       "      <td>0.90</td>\n",
       "      <td>1</td>\n",
       "      <td>1</td>\n",
       "      <td>4</td>\n",
       "      <td>1.0</td>\n",
       "      <td>2.0</td>\n",
       "      <td>4.0</td>\n",
       "      <td>200.0</td>\n",
       "      <td>5</td>\n",
       "      <td>...</td>\n",
       "      <td>0</td>\n",
       "      <td>0</td>\n",
       "      <td>0</td>\n",
       "      <td>0</td>\n",
       "      <td>0</td>\n",
       "      <td>0</td>\n",
       "      <td>0</td>\n",
       "      <td>0</td>\n",
       "      <td>0</td>\n",
       "      <td>0</td>\n",
       "    </tr>\n",
       "    <tr>\n",
       "      <th>1</th>\n",
       "      <td>1.0</td>\n",
       "      <td>1.00</td>\n",
       "      <td>1</td>\n",
       "      <td>1</td>\n",
       "      <td>3</td>\n",
       "      <td>1.0</td>\n",
       "      <td>1.0</td>\n",
       "      <td>2.0</td>\n",
       "      <td>150.0</td>\n",
       "      <td>4</td>\n",
       "      <td>...</td>\n",
       "      <td>0</td>\n",
       "      <td>1</td>\n",
       "      <td>1</td>\n",
       "      <td>1</td>\n",
       "      <td>1</td>\n",
       "      <td>0</td>\n",
       "      <td>1</td>\n",
       "      <td>0</td>\n",
       "      <td>0</td>\n",
       "      <td>0</td>\n",
       "    </tr>\n",
       "    <tr>\n",
       "      <th>2</th>\n",
       "      <td>1.0</td>\n",
       "      <td>1.00</td>\n",
       "      <td>2</td>\n",
       "      <td>5</td>\n",
       "      <td>2</td>\n",
       "      <td>1.0</td>\n",
       "      <td>1.0</td>\n",
       "      <td>1.0</td>\n",
       "      <td>99.0</td>\n",
       "      <td>32</td>\n",
       "      <td>...</td>\n",
       "      <td>0</td>\n",
       "      <td>1</td>\n",
       "      <td>1</td>\n",
       "      <td>1</td>\n",
       "      <td>1</td>\n",
       "      <td>0</td>\n",
       "      <td>0</td>\n",
       "      <td>0</td>\n",
       "      <td>1</td>\n",
       "      <td>0</td>\n",
       "    </tr>\n",
       "    <tr>\n",
       "      <th>3</th>\n",
       "      <td>1.0</td>\n",
       "      <td>1.00</td>\n",
       "      <td>4</td>\n",
       "      <td>5</td>\n",
       "      <td>2</td>\n",
       "      <td>1.0</td>\n",
       "      <td>1.0</td>\n",
       "      <td>1.0</td>\n",
       "      <td>76.0</td>\n",
       "      <td>1</td>\n",
       "      <td>...</td>\n",
       "      <td>0</td>\n",
       "      <td>1</td>\n",
       "      <td>1</td>\n",
       "      <td>1</td>\n",
       "      <td>0</td>\n",
       "      <td>0</td>\n",
       "      <td>0</td>\n",
       "      <td>0</td>\n",
       "      <td>0</td>\n",
       "      <td>0</td>\n",
       "    </tr>\n",
       "    <tr>\n",
       "      <th>4</th>\n",
       "      <td>1.0</td>\n",
       "      <td>0.93</td>\n",
       "      <td>3</td>\n",
       "      <td>11</td>\n",
       "      <td>2</td>\n",
       "      <td>1.0</td>\n",
       "      <td>1.0</td>\n",
       "      <td>1.0</td>\n",
       "      <td>80.0</td>\n",
       "      <td>7</td>\n",
       "      <td>...</td>\n",
       "      <td>1</td>\n",
       "      <td>1</td>\n",
       "      <td>1</td>\n",
       "      <td>1</td>\n",
       "      <td>1</td>\n",
       "      <td>0</td>\n",
       "      <td>0</td>\n",
       "      <td>1</td>\n",
       "      <td>1</td>\n",
       "      <td>1</td>\n",
       "    </tr>\n",
       "  </tbody>\n",
       "</table>\n",
       "<p>5 rows × 103 columns</p>\n",
       "</div>"
      ],
      "text/plain": [
       "   host_response_rate  host_acceptance_rate  host_listings_count  \\\n",
       "0                 1.0                  0.90                    1   \n",
       "1                 1.0                  1.00                    1   \n",
       "2                 1.0                  1.00                    2   \n",
       "3                 1.0                  1.00                    4   \n",
       "4                 1.0                  0.93                    3   \n",
       "\n",
       "   host_total_listings_count  accommodates  bathrooms  bedrooms  beds  price  \\\n",
       "0                          1             4        1.0       2.0   4.0  200.0   \n",
       "1                          1             3        1.0       1.0   2.0  150.0   \n",
       "2                          5             2        1.0       1.0   1.0   99.0   \n",
       "3                          5             2        1.0       1.0   1.0   76.0   \n",
       "4                         11             2        1.0       1.0   1.0   80.0   \n",
       "\n",
       "   minimum_nights  ...  fire_extinguisher  extra_pillows_and_blankets  \\\n",
       "0               5  ...                  0                           0   \n",
       "1               4  ...                  0                           1   \n",
       "2              32  ...                  0                           1   \n",
       "3               1  ...                  0                           1   \n",
       "4               7  ...                  1                           1   \n",
       "\n",
       "   hair_dryer  bed_linens  hot_water_kettle  bathtub  \\\n",
       "0           0           0                 0        0   \n",
       "1           1           1                 1        0   \n",
       "2           1           1                 1        0   \n",
       "3           1           1                 0        0   \n",
       "4           1           1                 1        0   \n",
       "\n",
       "   private_patio_or_balcony  lockbox  private_entrance  tv  \n",
       "0                         0        0                 0   0  \n",
       "1                         1        0                 0   0  \n",
       "2                         0        0                 1   0  \n",
       "3                         0        0                 0   0  \n",
       "4                         0        1                 1   1  \n",
       "\n",
       "[5 rows x 103 columns]"
      ]
     },
     "execution_count": 91,
     "metadata": {},
     "output_type": "execute_result"
    }
   ],
   "source": [
    "li_drop_columns = ['id', 'listing_url', 'scrape_id', 'last_scraped', 'license', 'source', 'name',\n",
    "    'host_id', 'host_url', 'picture_url', 'host_location', 'host_thumbnail_url', \n",
    "    'host_picture_url', 'host_neighbourhood', 'host_name', 'host_response_time',\n",
    "    'neighbourhood', 'property_type', 'room_type', 'neighbourhood_cleansed', 'neighbourhood_group_cleansed', \n",
    "    'bathrooms_text', 'calendar_updated', 'has_availability', 'geometry', 'calendar_last_scraped',\n",
    "    'first_review', 'last_review', 'room_type2', 'room_type_clean', 'host_since']\n",
    "\n",
    "data = data.drop(columns = li_drop_columns)\n",
    "data.head()"
   ]
  },
  {
   "cell_type": "code",
   "execution_count": 92,
   "metadata": {},
   "outputs": [
    {
     "data": {
      "text/plain": [
       "review_scores_accuracy         4090\n",
       "review_scores_cleanliness      4090\n",
       "review_scores_checkin          4090\n",
       "review_scores_communication    4090\n",
       "review_scores_location         4090\n",
       "review_scores_value            4090\n",
       "review_scores_rating           4079\n",
       "reviews_per_month              4079\n",
       "days_since                     4079\n",
       "host_response_rate              598\n",
       "host_acceptance_rate            529\n",
       "beds                             12\n",
       "bathrooms                         6\n",
       "bedrooms                          4\n",
       "dtype: int64"
      ]
     },
     "execution_count": 92,
     "metadata": {},
     "output_type": "execute_result"
    }
   ],
   "source": [
    "missing_value_summary(data)"
   ]
  },
  {
   "cell_type": "markdown",
   "metadata": {},
   "source": [
    "Drop rows with missing values in specific columns with systematic number of NAs"
   ]
  },
  {
   "cell_type": "code",
   "execution_count": 93,
   "metadata": {},
   "outputs": [
    {
     "data": {
      "text/plain": [
       "(12470, 103)"
      ]
     },
     "execution_count": 93,
     "metadata": {},
     "output_type": "execute_result"
    }
   ],
   "source": [
    "cols_to_check = [\n",
    "    'review_scores_accuracy', 'review_scores_cleanliness', 'review_scores_checkin',\n",
    "    'review_scores_communication', 'review_scores_location', 'review_scores_value',\n",
    "    'review_scores_rating', 'reviews_per_month'\n",
    "]\n",
    "\n",
    "data = data.dropna(subset=cols_to_check).reset_index(drop=True)\n",
    "data.shape\n"
   ]
  },
  {
   "cell_type": "markdown",
   "metadata": {},
   "source": [
    "Drop rows where selected columns have just a few missing values (less than 5%)"
   ]
  },
  {
   "cell_type": "code",
   "execution_count": 94,
   "metadata": {},
   "outputs": [],
   "source": [
    "na_ratios = data.isnull().mean()\n",
    "minor_missing = na_ratios[(na_ratios > 0) & (na_ratios < 0.05)].index\n",
    "data.dropna(subset=minor_missing, inplace=True)"
   ]
  },
  {
   "cell_type": "code",
   "execution_count": 95,
   "metadata": {},
   "outputs": [
    {
     "data": {
      "text/plain": [
       "count    12036.000000\n",
       "mean       287.445331\n",
       "std        432.187439\n",
       "min         10.000000\n",
       "25%        140.000000\n",
       "50%        207.000000\n",
       "75%        323.000000\n",
       "max      12000.000000\n",
       "Name: price, dtype: float64"
      ]
     },
     "execution_count": 95,
     "metadata": {},
     "output_type": "execute_result"
    }
   ],
   "source": [
    "data['price'].describe()"
   ]
  },
  {
   "cell_type": "markdown",
   "metadata": {},
   "source": [
    "Remove the top 10% most expensive listings to reduce the impact of extreme values on the model"
   ]
  },
  {
   "cell_type": "code",
   "execution_count": 96,
   "metadata": {},
   "outputs": [
    {
     "data": {
      "text/plain": [
       "(10834, 103)"
      ]
     },
     "execution_count": 96,
     "metadata": {},
     "output_type": "execute_result"
    }
   ],
   "source": [
    "price_cutoff = data[\"price\"].quantile(0.90)\n",
    "data = data[data[\"price\"] <= price_cutoff].reset_index(drop=True)\n",
    "data.shape"
   ]
  },
  {
   "cell_type": "code",
   "execution_count": 97,
   "metadata": {},
   "outputs": [
    {
     "data": {
      "text/plain": [
       "count    10834.000000\n",
       "mean       213.845856\n",
       "std        106.753129\n",
       "min         10.000000\n",
       "25%        133.000000\n",
       "50%        193.000000\n",
       "75%        278.750000\n",
       "max        514.000000\n",
       "Name: price, dtype: float64"
      ]
     },
     "execution_count": 97,
     "metadata": {},
     "output_type": "execute_result"
    }
   ],
   "source": [
    "data['price'].describe()"
   ]
  },
  {
   "cell_type": "markdown",
   "metadata": {},
   "source": [
    "Simple imputing with replacing missing values with mode"
   ]
  },
  {
   "cell_type": "code",
   "execution_count": 98,
   "metadata": {},
   "outputs": [
    {
     "data": {
      "text/plain": [
       "(10834, 103)"
      ]
     },
     "execution_count": 98,
     "metadata": {},
     "output_type": "execute_result"
    }
   ],
   "source": [
    "for col in data.columns:\n",
    "    if data[col].isnull().any():\n",
    "        mode_value = data[col].mode()[0]\n",
    "        data[col].fillna(mode_value, inplace=True)\n",
    "\n",
    "# Optional: reset index after row drops\n",
    "data.reset_index(drop=True, inplace=True)\n",
    "\n",
    "# Preview shape\n",
    "data.shape"
   ]
  },
  {
   "cell_type": "markdown",
   "metadata": {},
   "source": [
    "# Part 2. Predictive models"
   ]
  },
  {
   "cell_type": "code",
   "execution_count": 99,
   "metadata": {},
   "outputs": [],
   "source": [
    "data_work = data.copy()"
   ]
  },
  {
   "cell_type": "code",
   "execution_count": 100,
   "metadata": {},
   "outputs": [],
   "source": [
    "from sklearn.preprocessing import StandardScaler\n",
    "from sklearn.model_selection import train_test_split\n",
    "\n",
    "# Split target and features\n",
    "y = data[\"price\"].copy()\n",
    "X = data.drop(columns=[\"price\"]).copy()\n",
    "\n",
    "# Convert binary features to categorical (for boosting models)\n",
    "binary_features = [col for col in X.columns if X[col].nunique() == 2]\n",
    "for col in binary_features:\n",
    "    X[col] = X[col].astype(\"category\")\n",
    "\n",
    "# Standardized version (for OLS, LASSO, etc.)\n",
    "scaler = StandardScaler()\n",
    "X_scaled = scaler.fit_transform(X)\n",
    "\n",
    "X_train_linear, X_test_linear, y_train_linear, y_test_linear = train_test_split(\n",
    "    X_scaled, y, test_size=0.2, random_state=30032025\n",
    ")\n",
    "\n",
    "# Raw version (for tree-based models)\n",
    "X_train, X_test, y_train, y_test = train_test_split(\n",
    "    X, y, test_size=0.2, random_state=30032025\n",
    ")\n"
   ]
  },
  {
   "cell_type": "code",
   "execution_count": 101,
   "metadata": {},
   "outputs": [],
   "source": [
    "# from sklearn.linear_model import LinearRegression\n",
    "# from sklearn.metrics import mean_squared_error\n",
    "# import time\n",
    "\n",
    "# # OLS Model\n",
    "# ols = LinearRegression()\n",
    "\n",
    "# start = time.time()\n",
    "\n",
    "# ols.fit(X_train_linear, y_train_linear)\n",
    "\n",
    "# end = time.time()\n",
    "# print(f\"Overall time {end - start} sec\")\n",
    "\n",
    "# ols_prediction = ols.predict(X_test_linear)\n",
    "\n",
    "# np.sqrt(mean_squared_error(y_test_linear, ols_prediction))"
   ]
  },
  {
   "cell_type": "code",
   "execution_count": 102,
   "metadata": {},
   "outputs": [],
   "source": [
    "# Basic listing features\n",
    "basic_features = [\n",
    "    \"accommodates\", \"bedrooms\", \"beds\", \"bathrooms\",\n",
    "    \"rt_entire\", \"rt_private\", \"rt_shared\", \"rt_hotel\"\n",
    "]\n",
    "\n",
    "# Review-related features\n",
    "review_features = [\n",
    "    \"review_scores_rating\", \"review_scores_accuracy\", \"review_scores_cleanliness\",\n",
    "    \"review_scores_checkin\", \"review_scores_communication\", \"review_scores_location\",\n",
    "    \"review_scores_value\", \"reviews_per_month\"\n",
    "    # \"number_of_reviews\", \"number_of_reviews_ltm\", \"number_of_reviews_l30d\",\n",
    "]\n",
    "\n",
    "# Location-based features\n",
    "location_features = [\n",
    "    \"dist_to_palma\", \"dist_to_coast_km\", \"has_neighborhood_overview\"\n",
    "]\n",
    "\n",
    "# Host-related features\n",
    "host_features = [\n",
    "    \"host_response_rate\", \"host_acceptance_rate\", \"host_listings_count\",\n",
    "    \"host_total_listings_count\", \"calculated_host_listings_count\",\n",
    "    \"calculated_host_listings_count_entire_homes\",\n",
    "    \"calculated_host_listings_count_private_rooms\",\n",
    "    \"calculated_host_listings_count_shared_rooms\",\n",
    "    \"host_is_superhost_t\", \"host_has_profile_pic_t\", \"host_identity_verified_t\",\n",
    "    \"instant_bookable_t\", \"work_email\", \"email\", \"phone\", \n",
    "    \"has_description\", \"has_host_about\"\n",
    "]\n",
    "\n",
    "# Availability and night restriction features\n",
    "availability_features = [\"availability_90\", # \"availability_60\", \"availability_90\", \"availability_365\",\n",
    "    \"minimum_nights\", \"maximum_nights\", \"minimum_minimum_nights\", \"maximum_minimum_nights\",\n",
    "    \"minimum_maximum_nights\", \"maximum_maximum_nights\", \"minimum_nights_avg_ntm\",\n",
    "    \"maximum_nights_avg_ntm\", \"days_since\"\n",
    "]\n",
    "\n",
    "\n",
    "# Amenity features — grouped by 0/1 presence\n",
    "amenity_features = [\n",
    "        'self_checkin', 'pool', 'hair_dryer', 'smoke_alarm',\n",
    "       'wifi', 'hangers', 'patio_or_balcony', 'backyard',\n",
    "       'dedicated_workspace', 'heating', 'freezer', 'refrigerator', 'bathtub',\n",
    "       'private_entrance', 'iron', 'air_conditioning', 'coffee_maker',\n",
    "       'bbq_grill', 'stove', 'extra_pillows_and_blankets', 'tv',\n",
    "       'drying_rack_for_clothing', 'hot_water', 'dishwasher', 'first_aid_kit',\n",
    "       'garden_view', 'toaster', 'free_parking_on_premises',\n",
    "       'outdoor_dining_area', 'hot_water_kettle', 'cooking_basics', 'lockbox',\n",
    "       'oven', 'mountain_view', 'free_street_parking', 'microwave',\n",
    "       'dishes_and_silverware', 'bed_linens', 'private_patio_or_balcony',\n",
    "       'fire_extinguisher', 'high_chair', 'washer', 'outdoor_furniture',\n",
    "       'wine_glasses', 'long_term_stays_allowed', 'dining_table', 'crib',\n",
    "       'roomdarkening_shades', 'kitchen', 'essentials'\n",
    "]\n"
   ]
  },
  {
   "cell_type": "markdown",
   "metadata": {},
   "source": [
    "Create esimation equations"
   ]
  },
  {
   "cell_type": "code",
   "execution_count": 103,
   "metadata": {},
   "outputs": [],
   "source": [
    "modelv1 = \"~ accommodates\"\n",
    "modelv2 = \"~ \" + \" + \".join(basic_features)\n",
    "modelv3 = \"~ \" + \" + \".join(basic_features + review_features)\n",
    "modelv4 = \"~ \" + \" + \".join(basic_features + review_features + location_features)\n",
    "modelv5 = \"~ \" + \" + \".join(basic_features + review_features + location_features + host_features)\n",
    "modelv6 = \"~ \" + \" + \".join(basic_features + review_features + location_features + host_features + availability_features)\n",
    "modelv7 = \"~ \" + \" + \".join(basic_features + review_features + location_features + host_features + availability_features + amenity_features)\n",
    "model_equations = [modelv1, modelv2, modelv3, modelv4, modelv5, modelv6, modelv7]\n"
   ]
  },
  {
   "cell_type": "markdown",
   "metadata": {},
   "source": [
    "## Create separate holdout set"
   ]
  },
  {
   "cell_type": "code",
   "execution_count": 104,
   "metadata": {},
   "outputs": [],
   "source": [
    "sample_size = round(0.2 * data.shape[0]) - 1"
   ]
  },
  {
   "cell_type": "markdown",
   "metadata": {},
   "source": [
    " Set the random number generator: It will make results reproducable"
   ]
  },
  {
   "cell_type": "code",
   "execution_count": 105,
   "metadata": {},
   "outputs": [],
   "source": [
    "np.random.seed(30032025)"
   ]
  },
  {
   "cell_type": "code",
   "execution_count": 106,
   "metadata": {},
   "outputs": [],
   "source": [
    "from sklearn.model_selection import train_test_split\n",
    "\n",
    "data_work, data_holdout = train_test_split(data, test_size=sample_size)"
   ]
  },
  {
   "cell_type": "markdown",
   "metadata": {},
   "source": [
    "Set number of folds"
   ]
  },
  {
   "cell_type": "code",
   "execution_count": 107,
   "metadata": {},
   "outputs": [],
   "source": [
    "n_folds = 5"
   ]
  },
  {
   "cell_type": "markdown",
   "metadata": {},
   "source": [
    "## OLS"
   ]
  },
  {
   "cell_type": "markdown",
   "metadata": {},
   "source": [
    "Cross validate for each model and save results in `cv_list`"
   ]
  },
  {
   "cell_type": "code",
   "execution_count": 108,
   "metadata": {},
   "outputs": [],
   "source": [
    "import statsmodels.formula.api as smf\n",
    "from sklearn.model_selection import KFold\n",
    "from statsmodels.tools.eval_measures import rmse\n",
    "\n",
    "def ols_crossvalidator(\n",
    "    formula: str, data: pd.DataFrame, n_folds=5, average_rmse=True\n",
    ") -> dict:\n",
    "    \"\"\"OLS cross-validator\n",
    "\n",
    "\n",
    "    Estimates `formula` equation with OLS and returns values of RMSE, R`2, No. coefficients,\n",
    "    BIC on `data`. Does k-fold cross-validation and either returns train and test RMSE for each\n",
    "    fold, or return averarage train and test RMSEs.\n",
    "\n",
    "    Parameters\n",
    "    ----------\n",
    "    formula : str\n",
    "        Equation that is estimated by OLS.\n",
    "    data : pd.DataFrame\n",
    "        Database in a wide format.\n",
    "    n_folds : int, default=5\n",
    "        Number of folds. Must be at least 2.\n",
    "    average_rmse : bool, default=True\n",
    "        Whether to return the average train and test RMSE of the k-fold CV, or return\n",
    "        train and test RMSE-s for each fold.\n",
    "\n",
    "    \"\"\"\n",
    "\n",
    "    # Get dependent variable\n",
    "\n",
    "    y = formula.split(\"~\")[0].strip()\n",
    "\n",
    "    # Get statistics on the whole work data\n",
    "\n",
    "    model = smf.ols(formula, data=data).fit()\n",
    "\n",
    "    rsquared = model.rsquared\n",
    "    # n_coefficients = model.params.shape[0]\n",
    "    n_coefficients = (\n",
    "        model.df_model + 1\n",
    "    )  # This might differ from model.params.shape[0], because of collinear predictors\n",
    "    bic = model.bic\n",
    "    rmse_alldata = rmse(model.predict(), data[y])\n",
    "\n",
    "    # Calculating test and train RMSE-s for each fold\n",
    "\n",
    "    k = KFold(n_splits=n_folds, shuffle=False, random_state=None)\n",
    "\n",
    "    rmse_train = []\n",
    "    rmse_test = []\n",
    "\n",
    "    for train_index, test_index in k.split(data):\n",
    "\n",
    "        data_train, data_test = data.iloc[train_index, :], data.iloc[test_index, :]\n",
    "\n",
    "        model = smf.ols(formula, data=data_train).fit()\n",
    "\n",
    "        rmse_train.append(rmse(data_train[y], model.predict(data_train)))\n",
    "        rmse_test.append(rmse(data_test[y], model.predict(data_test)))\n",
    "\n",
    "    if average_rmse:\n",
    "        rmse_train = np.mean(rmse_train)\n",
    "        rmse_test = np.mean(rmse_test)\n",
    "\n",
    "    return {\n",
    "        \"RMSE\": rmse_alldata,\n",
    "        \"R-squared\": rsquared,\n",
    "        \"BIC\": bic,\n",
    "        \"Coefficients\": n_coefficients,\n",
    "        \"Training RMSE\": rmse_train,\n",
    "        \"Test RMSE\": rmse_test,\n",
    "    }"
   ]
  },
  {
   "cell_type": "code",
   "execution_count": 109,
   "metadata": {},
   "outputs": [
    {
     "data": {
      "text/plain": [
       "'~ accommodates'"
      ]
     },
     "execution_count": 109,
     "metadata": {},
     "output_type": "execute_result"
    }
   ],
   "source": [
    "model_equations[0]"
   ]
  },
  {
   "cell_type": "code",
   "execution_count": 110,
   "metadata": {},
   "outputs": [],
   "source": [
    "import time\n",
    "\n",
    "cv_list = []\n",
    "for model in model_equations:\n",
    "    start = time.time()\n",
    "    result = ols_crossvalidator(\"price\" + model, data_work, n_folds)\n",
    "    end = time.time()\n",
    "    result[\"Time\"] = round(end - start, 2)\n",
    "    cv_list.append(result)\n"
   ]
  },
  {
   "cell_type": "markdown",
   "metadata": {},
   "source": [
    "### Table 14.3 Comparing model fit measures"
   ]
  },
  {
   "cell_type": "code",
   "execution_count": 111,
   "metadata": {},
   "outputs": [
    {
     "data": {
      "text/html": [
       "<div>\n",
       "<style scoped>\n",
       "    .dataframe tbody tr th:only-of-type {\n",
       "        vertical-align: middle;\n",
       "    }\n",
       "\n",
       "    .dataframe tbody tr th {\n",
       "        vertical-align: top;\n",
       "    }\n",
       "\n",
       "    .dataframe thead th {\n",
       "        text-align: right;\n",
       "    }\n",
       "</style>\n",
       "<table border=\"1\" class=\"dataframe\">\n",
       "  <thead>\n",
       "    <tr style=\"text-align: right;\">\n",
       "      <th></th>\n",
       "      <th>Model</th>\n",
       "      <th>Coefficients</th>\n",
       "      <th>R-squared</th>\n",
       "      <th>BIC</th>\n",
       "      <th>Training RMSE</th>\n",
       "      <th>Test RMSE</th>\n",
       "      <th>Time</th>\n",
       "    </tr>\n",
       "  </thead>\n",
       "  <tbody>\n",
       "    <tr>\n",
       "      <th>0</th>\n",
       "      <td>M1</td>\n",
       "      <td>2</td>\n",
       "      <td>0.38</td>\n",
       "      <td>101477</td>\n",
       "      <td>84.23</td>\n",
       "      <td>84.25</td>\n",
       "      <td>0.10</td>\n",
       "    </tr>\n",
       "    <tr>\n",
       "      <th>1</th>\n",
       "      <td>M2</td>\n",
       "      <td>8</td>\n",
       "      <td>0.41</td>\n",
       "      <td>101110</td>\n",
       "      <td>82.20</td>\n",
       "      <td>82.31</td>\n",
       "      <td>0.25</td>\n",
       "    </tr>\n",
       "    <tr>\n",
       "      <th>2</th>\n",
       "      <td>M3</td>\n",
       "      <td>16</td>\n",
       "      <td>0.42</td>\n",
       "      <td>101061</td>\n",
       "      <td>81.62</td>\n",
       "      <td>81.82</td>\n",
       "      <td>0.40</td>\n",
       "    </tr>\n",
       "    <tr>\n",
       "      <th>3</th>\n",
       "      <td>M4</td>\n",
       "      <td>19</td>\n",
       "      <td>0.43</td>\n",
       "      <td>100899</td>\n",
       "      <td>80.72</td>\n",
       "      <td>80.99</td>\n",
       "      <td>0.45</td>\n",
       "    </tr>\n",
       "    <tr>\n",
       "      <th>4</th>\n",
       "      <td>M5</td>\n",
       "      <td>36</td>\n",
       "      <td>0.45</td>\n",
       "      <td>100723</td>\n",
       "      <td>79.18</td>\n",
       "      <td>79.65</td>\n",
       "      <td>0.84</td>\n",
       "    </tr>\n",
       "    <tr>\n",
       "      <th>5</th>\n",
       "      <td>M6</td>\n",
       "      <td>46</td>\n",
       "      <td>0.50</td>\n",
       "      <td>99920</td>\n",
       "      <td>75.18</td>\n",
       "      <td>75.87</td>\n",
       "      <td>1.01</td>\n",
       "    </tr>\n",
       "    <tr>\n",
       "      <th>6</th>\n",
       "      <td>M7</td>\n",
       "      <td>96</td>\n",
       "      <td>0.54</td>\n",
       "      <td>99624</td>\n",
       "      <td>71.95</td>\n",
       "      <td>73.13</td>\n",
       "      <td>2.37</td>\n",
       "    </tr>\n",
       "  </tbody>\n",
       "</table>\n",
       "</div>"
      ],
      "text/plain": [
       "  Model  Coefficients  R-squared     BIC  Training RMSE  Test RMSE  Time\n",
       "0    M1             2       0.38  101477          84.23      84.25  0.10\n",
       "1    M2             8       0.41  101110          82.20      82.31  0.25\n",
       "2    M3            16       0.42  101061          81.62      81.82  0.40\n",
       "3    M4            19       0.43  100899          80.72      80.99  0.45\n",
       "4    M5            36       0.45  100723          79.18      79.65  0.84\n",
       "5    M6            46       0.50   99920          75.18      75.87  1.01\n",
       "6    M7            96       0.54   99624          71.95      73.13  2.37"
      ]
     },
     "execution_count": 111,
     "metadata": {},
     "output_type": "execute_result"
    }
   ],
   "source": [
    "compare_model_fits = (\n",
    "    pd.DataFrame(cv_list)\n",
    "    .round(2)\n",
    "    .assign(\n",
    "        Model=[\"M\" + str(i + 1) for i in range(len(cv_list))],\n",
    "        BIC=lambda x: x[\"BIC\"].astype(int),\n",
    "        Coefficients=lambda x: x[\"Coefficients\"].astype(int),\n",
    "        Time=lambda x: x[\"Time\"]\n",
    "    )\n",
    "    .filter([\"Model\", \"Coefficients\", \"R-squared\", \"BIC\", \"Training RMSE\", \"Test RMSE\", \"Time\"])\n",
    ")\n",
    "\n",
    "compare_model_fits\n"
   ]
  },
  {
   "cell_type": "markdown",
   "metadata": {},
   "source": [
    "## Lasso"
   ]
  },
  {
   "cell_type": "code",
   "execution_count": 112,
   "metadata": {},
   "outputs": [],
   "source": [
    "from sklearn.linear_model import LassoCV\n",
    "from sklearn.preprocessing import StandardScaler"
   ]
  },
  {
   "cell_type": "code",
   "execution_count": 113,
   "metadata": {},
   "outputs": [],
   "source": [
    "vars_model_7 = modelv7"
   ]
  },
  {
   "cell_type": "markdown",
   "metadata": {},
   "source": [
    "Define range for lambdas – the algo will look only in this set"
   ]
  },
  {
   "cell_type": "code",
   "execution_count": 114,
   "metadata": {},
   "outputs": [
    {
     "name": "stdout",
     "output_type": "stream",
     "text": [
      "[0.05 0.1  0.15 0.2  0.25 0.3  0.35 0.4  0.45 0.5  0.55 0.6  0.65 0.7\n",
      " 0.75 0.8  0.85 0.9  0.95 1.  ]\n"
     ]
    }
   ],
   "source": [
    "lambdas = np.arange(0.05, 1.01, 0.05)\n",
    "print(lambdas)"
   ]
  },
  {
   "cell_type": "markdown",
   "metadata": {},
   "source": [
    "To cross-validate lambda-s (which is Lasso's hyperparameter) one has to standardise the feature matrix."
   ]
  },
  {
   "cell_type": "code",
   "execution_count": 115,
   "metadata": {},
   "outputs": [],
   "source": [
    "y, X = patsy.dmatrices(\"price\" + vars_model_7, data_work)\n",
    "X_featnames = X.design_info.column_names\n",
    "scaler = StandardScaler()\n",
    "X = scaler.fit_transform(X)"
   ]
  },
  {
   "cell_type": "code",
   "execution_count": 116,
   "metadata": {},
   "outputs": [],
   "source": [
    "start = time.time()\n",
    "lasso_fit = LassoCV(alphas=lambdas, cv=5, random_state=42).fit(X, y)\n",
    "end = time.time()\n",
    "lasso_time = round(end - start, 2)"
   ]
  },
  {
   "cell_type": "markdown",
   "metadata": {},
   "source": [
    "Best alpha the algorithm found"
   ]
  },
  {
   "cell_type": "code",
   "execution_count": 117,
   "metadata": {},
   "outputs": [
    {
     "data": {
      "text/plain": [
       "0.15000000000000002"
      ]
     },
     "execution_count": 117,
     "metadata": {},
     "output_type": "execute_result"
    }
   ],
   "source": [
    "lasso_fit.alpha_"
   ]
  },
  {
   "cell_type": "code",
   "execution_count": 118,
   "metadata": {},
   "outputs": [
    {
     "data": {
      "text/html": [
       "<div>\n",
       "<style scoped>\n",
       "    .dataframe tbody tr th:only-of-type {\n",
       "        vertical-align: middle;\n",
       "    }\n",
       "\n",
       "    .dataframe tbody tr th {\n",
       "        vertical-align: top;\n",
       "    }\n",
       "\n",
       "    .dataframe thead th {\n",
       "        text-align: right;\n",
       "    }\n",
       "</style>\n",
       "<table border=\"1\" class=\"dataframe\">\n",
       "  <thead>\n",
       "    <tr style=\"text-align: right;\">\n",
       "      <th></th>\n",
       "      <th>Test RMSE</th>\n",
       "    </tr>\n",
       "  </thead>\n",
       "  <tbody>\n",
       "    <tr>\n",
       "      <th>1.00</th>\n",
       "      <td>73.79</td>\n",
       "    </tr>\n",
       "    <tr>\n",
       "      <th>0.95</th>\n",
       "      <td>73.74</td>\n",
       "    </tr>\n",
       "    <tr>\n",
       "      <th>0.90</th>\n",
       "      <td>73.70</td>\n",
       "    </tr>\n",
       "    <tr>\n",
       "      <th>0.85</th>\n",
       "      <td>73.65</td>\n",
       "    </tr>\n",
       "    <tr>\n",
       "      <th>0.80</th>\n",
       "      <td>73.60</td>\n",
       "    </tr>\n",
       "    <tr>\n",
       "      <th>0.75</th>\n",
       "      <td>73.55</td>\n",
       "    </tr>\n",
       "    <tr>\n",
       "      <th>0.70</th>\n",
       "      <td>73.51</td>\n",
       "    </tr>\n",
       "    <tr>\n",
       "      <th>0.65</th>\n",
       "      <td>73.46</td>\n",
       "    </tr>\n",
       "    <tr>\n",
       "      <th>0.60</th>\n",
       "      <td>73.42</td>\n",
       "    </tr>\n",
       "    <tr>\n",
       "      <th>0.55</th>\n",
       "      <td>73.38</td>\n",
       "    </tr>\n",
       "    <tr>\n",
       "      <th>0.50</th>\n",
       "      <td>73.34</td>\n",
       "    </tr>\n",
       "    <tr>\n",
       "      <th>0.45</th>\n",
       "      <td>73.31</td>\n",
       "    </tr>\n",
       "    <tr>\n",
       "      <th>0.40</th>\n",
       "      <td>73.26</td>\n",
       "    </tr>\n",
       "    <tr>\n",
       "      <th>0.35</th>\n",
       "      <td>73.23</td>\n",
       "    </tr>\n",
       "    <tr>\n",
       "      <th>0.30</th>\n",
       "      <td>73.18</td>\n",
       "    </tr>\n",
       "    <tr>\n",
       "      <th>0.25</th>\n",
       "      <td>73.13</td>\n",
       "    </tr>\n",
       "    <tr>\n",
       "      <th>0.20</th>\n",
       "      <td>73.10</td>\n",
       "    </tr>\n",
       "    <tr>\n",
       "      <th>0.15</th>\n",
       "      <td>73.08</td>\n",
       "    </tr>\n",
       "    <tr>\n",
       "      <th>0.10</th>\n",
       "      <td>73.08</td>\n",
       "    </tr>\n",
       "    <tr>\n",
       "      <th>0.05</th>\n",
       "      <td>73.10</td>\n",
       "    </tr>\n",
       "  </tbody>\n",
       "</table>\n",
       "</div>"
      ],
      "text/plain": [
       "      Test RMSE\n",
       "1.00      73.79\n",
       "0.95      73.74\n",
       "0.90      73.70\n",
       "0.85      73.65\n",
       "0.80      73.60\n",
       "0.75      73.55\n",
       "0.70      73.51\n",
       "0.65      73.46\n",
       "0.60      73.42\n",
       "0.55      73.38\n",
       "0.50      73.34\n",
       "0.45      73.31\n",
       "0.40      73.26\n",
       "0.35      73.23\n",
       "0.30      73.18\n",
       "0.25      73.13\n",
       "0.20      73.10\n",
       "0.15      73.08\n",
       "0.10      73.08\n",
       "0.05      73.10"
      ]
     },
     "execution_count": 118,
     "metadata": {},
     "output_type": "execute_result"
    }
   ],
   "source": [
    "rmse_lambda_folds = (\n",
    "    pd.DataFrame(lasso_fit.mse_path_, index=lambdas[::-1])\n",
    "    .apply(np.sqrt)\n",
    "    .mean(axis=1)\n",
    "    .to_frame(name=\"Test RMSE\")\n",
    "    .round(2)\n",
    ")\n",
    "rmse_lambda_folds"
   ]
  },
  {
   "cell_type": "markdown",
   "metadata": {},
   "source": [
    "Non-zero coefficients"
   ]
  },
  {
   "cell_type": "code",
   "execution_count": 119,
   "metadata": {},
   "outputs": [
    {
     "data": {
      "text/html": [
       "<div>\n",
       "<style scoped>\n",
       "    .dataframe tbody tr th:only-of-type {\n",
       "        vertical-align: middle;\n",
       "    }\n",
       "\n",
       "    .dataframe tbody tr th {\n",
       "        vertical-align: top;\n",
       "    }\n",
       "\n",
       "    .dataframe thead th {\n",
       "        text-align: right;\n",
       "    }\n",
       "</style>\n",
       "<table border=\"1\" class=\"dataframe\">\n",
       "  <thead>\n",
       "    <tr style=\"text-align: right;\">\n",
       "      <th></th>\n",
       "      <th>coefficient</th>\n",
       "    </tr>\n",
       "  </thead>\n",
       "  <tbody>\n",
       "    <tr>\n",
       "      <th>accommodates</th>\n",
       "      <td>34.169</td>\n",
       "    </tr>\n",
       "    <tr>\n",
       "      <th>bedrooms</th>\n",
       "      <td>12.543</td>\n",
       "    </tr>\n",
       "    <tr>\n",
       "      <th>beds</th>\n",
       "      <td>-0.113</td>\n",
       "    </tr>\n",
       "    <tr>\n",
       "      <th>bathrooms</th>\n",
       "      <td>21.383</td>\n",
       "    </tr>\n",
       "    <tr>\n",
       "      <th>rt_entire</th>\n",
       "      <td>12.139</td>\n",
       "    </tr>\n",
       "    <tr>\n",
       "      <th>...</th>\n",
       "      <td>...</td>\n",
       "    </tr>\n",
       "    <tr>\n",
       "      <th>dining_table</th>\n",
       "      <td>2.941</td>\n",
       "    </tr>\n",
       "    <tr>\n",
       "      <th>crib</th>\n",
       "      <td>1.401</td>\n",
       "    </tr>\n",
       "    <tr>\n",
       "      <th>roomdarkening_shades</th>\n",
       "      <td>-3.047</td>\n",
       "    </tr>\n",
       "    <tr>\n",
       "      <th>kitchen</th>\n",
       "      <td>-2.685</td>\n",
       "    </tr>\n",
       "    <tr>\n",
       "      <th>essentials</th>\n",
       "      <td>-1.941</td>\n",
       "    </tr>\n",
       "  </tbody>\n",
       "</table>\n",
       "<p>91 rows × 1 columns</p>\n",
       "</div>"
      ],
      "text/plain": [
       "                      coefficient\n",
       "accommodates               34.169\n",
       "bedrooms                   12.543\n",
       "beds                       -0.113\n",
       "bathrooms                  21.383\n",
       "rt_entire                  12.139\n",
       "...                           ...\n",
       "dining_table                2.941\n",
       "crib                        1.401\n",
       "roomdarkening_shades       -3.047\n",
       "kitchen                    -2.685\n",
       "essentials                 -1.941\n",
       "\n",
       "[91 rows x 1 columns]"
      ]
     },
     "execution_count": 119,
     "metadata": {},
     "output_type": "execute_result"
    }
   ],
   "source": [
    "notnull_lasso_coefs = (\n",
    "    pd.DataFrame(lasso_fit.coef_, index=X_featnames, columns=[\"coefficient\"])\n",
    "    .loc[lambda x: x[\"coefficient\"].round(3) != 0]\n",
    "    .round(3)\n",
    ")\n",
    "notnull_lasso_coefs"
   ]
  },
  {
   "cell_type": "code",
   "execution_count": 120,
   "metadata": {},
   "outputs": [
    {
     "data": {
      "text/html": [
       "<div>\n",
       "<style scoped>\n",
       "    .dataframe tbody tr th:only-of-type {\n",
       "        vertical-align: middle;\n",
       "    }\n",
       "\n",
       "    .dataframe tbody tr th {\n",
       "        vertical-align: top;\n",
       "    }\n",
       "\n",
       "    .dataframe thead th {\n",
       "        text-align: right;\n",
       "    }\n",
       "</style>\n",
       "<table border=\"1\" class=\"dataframe\">\n",
       "  <thead>\n",
       "    <tr style=\"text-align: right;\">\n",
       "      <th></th>\n",
       "      <th>Model</th>\n",
       "      <th>Coefficients</th>\n",
       "      <th>R-squared</th>\n",
       "      <th>BIC</th>\n",
       "      <th>Training RMSE</th>\n",
       "      <th>Test RMSE</th>\n",
       "      <th>Time</th>\n",
       "    </tr>\n",
       "  </thead>\n",
       "  <tbody>\n",
       "    <tr>\n",
       "      <th>0</th>\n",
       "      <td>M1</td>\n",
       "      <td>2</td>\n",
       "      <td>0.38</td>\n",
       "      <td>101477</td>\n",
       "      <td>84.23</td>\n",
       "      <td>84.25</td>\n",
       "      <td>0.10</td>\n",
       "    </tr>\n",
       "    <tr>\n",
       "      <th>1</th>\n",
       "      <td>M2</td>\n",
       "      <td>8</td>\n",
       "      <td>0.41</td>\n",
       "      <td>101110</td>\n",
       "      <td>82.2</td>\n",
       "      <td>82.31</td>\n",
       "      <td>0.25</td>\n",
       "    </tr>\n",
       "    <tr>\n",
       "      <th>2</th>\n",
       "      <td>M3</td>\n",
       "      <td>16</td>\n",
       "      <td>0.42</td>\n",
       "      <td>101061</td>\n",
       "      <td>81.62</td>\n",
       "      <td>81.82</td>\n",
       "      <td>0.40</td>\n",
       "    </tr>\n",
       "    <tr>\n",
       "      <th>3</th>\n",
       "      <td>M4</td>\n",
       "      <td>19</td>\n",
       "      <td>0.43</td>\n",
       "      <td>100899</td>\n",
       "      <td>80.72</td>\n",
       "      <td>80.99</td>\n",
       "      <td>0.45</td>\n",
       "    </tr>\n",
       "    <tr>\n",
       "      <th>4</th>\n",
       "      <td>M5</td>\n",
       "      <td>36</td>\n",
       "      <td>0.45</td>\n",
       "      <td>100723</td>\n",
       "      <td>79.18</td>\n",
       "      <td>79.65</td>\n",
       "      <td>0.84</td>\n",
       "    </tr>\n",
       "    <tr>\n",
       "      <th>5</th>\n",
       "      <td>M6</td>\n",
       "      <td>46</td>\n",
       "      <td>0.5</td>\n",
       "      <td>99920</td>\n",
       "      <td>75.18</td>\n",
       "      <td>75.87</td>\n",
       "      <td>1.01</td>\n",
       "    </tr>\n",
       "    <tr>\n",
       "      <th>6</th>\n",
       "      <td>M7</td>\n",
       "      <td>96</td>\n",
       "      <td>0.54</td>\n",
       "      <td>99624</td>\n",
       "      <td>71.95</td>\n",
       "      <td>73.13</td>\n",
       "      <td>2.37</td>\n",
       "    </tr>\n",
       "    <tr>\n",
       "      <th>7</th>\n",
       "      <td>Lasso</td>\n",
       "      <td>91</td>\n",
       "      <td>None</td>\n",
       "      <td>None</td>\n",
       "      <td>None</td>\n",
       "      <td>73.08</td>\n",
       "      <td>0.43</td>\n",
       "    </tr>\n",
       "  </tbody>\n",
       "</table>\n",
       "</div>"
      ],
      "text/plain": [
       "   Model  Coefficients R-squared     BIC Training RMSE  Test RMSE  Time\n",
       "0     M1             2      0.38  101477         84.23      84.25  0.10\n",
       "1     M2             8      0.41  101110          82.2      82.31  0.25\n",
       "2     M3            16      0.42  101061         81.62      81.82  0.40\n",
       "3     M4            19      0.43  100899         80.72      80.99  0.45\n",
       "4     M5            36      0.45  100723         79.18      79.65  0.84\n",
       "5     M6            46       0.5   99920         75.18      75.87  1.01\n",
       "6     M7            96      0.54   99624         71.95      73.13  2.37\n",
       "7  Lasso            91      None    None          None      73.08  0.43"
      ]
     },
     "execution_count": 120,
     "metadata": {},
     "output_type": "execute_result"
    }
   ],
   "source": [
    "compare_model_fits.loc[len(compare_model_fits)] = {\n",
    "    \"Model\": \"Lasso\",\n",
    "    \"Coefficients\": notnull_lasso_coefs.shape[0],\n",
    "    \"R-squared\": None,\n",
    "    \"BIC\": None,\n",
    "    \"Training RMSE\": None,\n",
    "    \"Test RMSE\": rmse_lambda_folds.loc[lasso_fit.alpha_].values[0],\n",
    "    \"Time\": lasso_time\n",
    "}\n",
    "compare_model_fits"
   ]
  },
  {
   "cell_type": "markdown",
   "metadata": {},
   "source": [
    "LASSO and M7 both achieve a Test RMSE of 74.53, but M7 uses features I selected based on domain logic. Since performance is identical, I prefer M7 for its interpretability and clearer connection to the business context of Airbnb pricing in Mallorca."
   ]
  },
  {
   "cell_type": "markdown",
   "metadata": {},
   "source": [
    "## Random Foresst"
   ]
  },
  {
   "cell_type": "code",
   "execution_count": 121,
   "metadata": {},
   "outputs": [
    {
     "name": "stdout",
     "output_type": "stream",
     "text": [
      "Random Forest Test RMSE: 68.25601709371124\n"
     ]
    }
   ],
   "source": [
    "from sklearn.ensemble import RandomForestRegressor\n",
    "from sklearn.metrics import mean_squared_error\n",
    "import numpy as np\n",
    "import time\n",
    "\n",
    "rf_model = RandomForestRegressor(n_estimators=100, random_state=42)\n",
    "\n",
    "start = time.time()\n",
    "rf_model.fit(X_train, y_train)\n",
    "end = time.time()\n",
    "rf_time = round(end - start, 2)\n",
    "\n",
    "rf_predictions = rf_model.predict(X_test)\n",
    "rf_rmse = np.sqrt(mean_squared_error(y_test, rf_predictions))\n",
    "print(f\"Random Forest Test RMSE: {rf_rmse}\")"
   ]
  },
  {
   "cell_type": "code",
   "execution_count": 122,
   "metadata": {},
   "outputs": [
    {
     "data": {
      "text/html": [
       "<div>\n",
       "<style scoped>\n",
       "    .dataframe tbody tr th:only-of-type {\n",
       "        vertical-align: middle;\n",
       "    }\n",
       "\n",
       "    .dataframe tbody tr th {\n",
       "        vertical-align: top;\n",
       "    }\n",
       "\n",
       "    .dataframe thead th {\n",
       "        text-align: right;\n",
       "    }\n",
       "</style>\n",
       "<table border=\"1\" class=\"dataframe\">\n",
       "  <thead>\n",
       "    <tr style=\"text-align: right;\">\n",
       "      <th></th>\n",
       "      <th>Model</th>\n",
       "      <th>Coefficients</th>\n",
       "      <th>R-squared</th>\n",
       "      <th>BIC</th>\n",
       "      <th>Training RMSE</th>\n",
       "      <th>Test RMSE</th>\n",
       "      <th>Time</th>\n",
       "    </tr>\n",
       "  </thead>\n",
       "  <tbody>\n",
       "    <tr>\n",
       "      <th>0</th>\n",
       "      <td>M1</td>\n",
       "      <td>2</td>\n",
       "      <td>0.38</td>\n",
       "      <td>101477</td>\n",
       "      <td>84.23</td>\n",
       "      <td>84.25</td>\n",
       "      <td>0.10</td>\n",
       "    </tr>\n",
       "    <tr>\n",
       "      <th>1</th>\n",
       "      <td>M2</td>\n",
       "      <td>8</td>\n",
       "      <td>0.41</td>\n",
       "      <td>101110</td>\n",
       "      <td>82.2</td>\n",
       "      <td>82.31</td>\n",
       "      <td>0.25</td>\n",
       "    </tr>\n",
       "    <tr>\n",
       "      <th>2</th>\n",
       "      <td>M3</td>\n",
       "      <td>16</td>\n",
       "      <td>0.42</td>\n",
       "      <td>101061</td>\n",
       "      <td>81.62</td>\n",
       "      <td>81.82</td>\n",
       "      <td>0.40</td>\n",
       "    </tr>\n",
       "    <tr>\n",
       "      <th>3</th>\n",
       "      <td>M4</td>\n",
       "      <td>19</td>\n",
       "      <td>0.43</td>\n",
       "      <td>100899</td>\n",
       "      <td>80.72</td>\n",
       "      <td>80.99</td>\n",
       "      <td>0.45</td>\n",
       "    </tr>\n",
       "    <tr>\n",
       "      <th>4</th>\n",
       "      <td>M5</td>\n",
       "      <td>36</td>\n",
       "      <td>0.45</td>\n",
       "      <td>100723</td>\n",
       "      <td>79.18</td>\n",
       "      <td>79.65</td>\n",
       "      <td>0.84</td>\n",
       "    </tr>\n",
       "    <tr>\n",
       "      <th>5</th>\n",
       "      <td>M6</td>\n",
       "      <td>46</td>\n",
       "      <td>0.5</td>\n",
       "      <td>99920</td>\n",
       "      <td>75.18</td>\n",
       "      <td>75.87</td>\n",
       "      <td>1.01</td>\n",
       "    </tr>\n",
       "    <tr>\n",
       "      <th>6</th>\n",
       "      <td>M7</td>\n",
       "      <td>96</td>\n",
       "      <td>0.54</td>\n",
       "      <td>99624</td>\n",
       "      <td>71.95</td>\n",
       "      <td>73.13</td>\n",
       "      <td>2.37</td>\n",
       "    </tr>\n",
       "    <tr>\n",
       "      <th>7</th>\n",
       "      <td>Lasso</td>\n",
       "      <td>91</td>\n",
       "      <td>None</td>\n",
       "      <td>None</td>\n",
       "      <td>None</td>\n",
       "      <td>73.08</td>\n",
       "      <td>0.43</td>\n",
       "    </tr>\n",
       "    <tr>\n",
       "      <th>8</th>\n",
       "      <td>Random Forest</td>\n",
       "      <td>102</td>\n",
       "      <td>N/A</td>\n",
       "      <td>N/A</td>\n",
       "      <td>N/A</td>\n",
       "      <td>68.26</td>\n",
       "      <td>81.99</td>\n",
       "    </tr>\n",
       "  </tbody>\n",
       "</table>\n",
       "</div>"
      ],
      "text/plain": [
       "           Model  Coefficients R-squared     BIC Training RMSE  Test RMSE  \\\n",
       "0             M1             2      0.38  101477         84.23      84.25   \n",
       "1             M2             8      0.41  101110          82.2      82.31   \n",
       "2             M3            16      0.42  101061         81.62      81.82   \n",
       "3             M4            19      0.43  100899         80.72      80.99   \n",
       "4             M5            36      0.45  100723         79.18      79.65   \n",
       "5             M6            46       0.5   99920         75.18      75.87   \n",
       "6             M7            96      0.54   99624         71.95      73.13   \n",
       "7          Lasso            91      None    None          None      73.08   \n",
       "8  Random Forest           102       N/A     N/A           N/A      68.26   \n",
       "\n",
       "    Time  \n",
       "0   0.10  \n",
       "1   0.25  \n",
       "2   0.40  \n",
       "3   0.45  \n",
       "4   0.84  \n",
       "5   1.01  \n",
       "6   2.37  \n",
       "7   0.43  \n",
       "8  81.99  "
      ]
     },
     "execution_count": 122,
     "metadata": {},
     "output_type": "execute_result"
    }
   ],
   "source": [
    "compare_model_fits.loc[len(compare_model_fits)] = {\n",
    "    \"Model\": \"Random Forest\",\n",
    "    \"Coefficients\": X_train.shape[1],\n",
    "    \"R-squared\": \"N/A\",\n",
    "    \"BIC\": \"N/A\",\n",
    "    \"Training RMSE\": \"N/A\",\n",
    "    \"Test RMSE\": round(rf_rmse, 2),\n",
    "    \"Time\": rf_time\n",
    "}\n",
    "\n",
    "compare_model_fits"
   ]
  },
  {
   "cell_type": "markdown",
   "metadata": {},
   "source": [
    "Random Forest performed best out of all the linear models, with an Test RMSE of 68.26. While it's less easy to understand than M7 or Lasso, it can spot complex nonlinear patterns that improve how well it can predict things."
   ]
  },
  {
   "cell_type": "markdown",
   "metadata": {},
   "source": [
    "## Additional Predictive Model"
   ]
  },
  {
   "cell_type": "code",
   "execution_count": 130,
   "metadata": {},
   "outputs": [
    {
     "name": "stdout",
     "output_type": "stream",
     "text": [
      "XGBoost Test RMSE: 63.897563059526405\n"
     ]
    }
   ],
   "source": [
    "from xgboost import XGBRegressor\n",
    "from sklearn.metrics import mean_squared_error\n",
    "import time\n",
    "\n",
    "# Convert categorical columns to numerical (integer encoding)\n",
    "X_train_encoded = X_train.copy()\n",
    "X_test_encoded = X_test.copy()\n",
    "\n",
    "for col in X_train_encoded.select_dtypes(include=[\"category\"]).columns:\n",
    "    X_train_encoded[col] = X_train_encoded[col].cat.codes\n",
    "    X_test_encoded[col] = X_test_encoded[col].cat.codes\n",
    "\n",
    "xgb_model = XGBRegressor(\n",
    "    n_estimators=500,\n",
    "    learning_rate=0.1,\n",
    "    max_depth=6,\n",
    "    random_state=42\n",
    ")\n",
    "\n",
    "start = time.time()\n",
    "xgb_model.fit(X_train_encoded, y_train)\n",
    "end = time.time()\n",
    "xgb_time = round(end - start, 2)\n",
    "\n",
    "xgb_predictions = xgb_model.predict(X_test_encoded)\n",
    "xgb_rmse = np.sqrt(mean_squared_error(y_test, xgb_predictions))\n",
    "print(f\"XGBoost Test RMSE: {xgb_rmse}\")"
   ]
  },
  {
   "cell_type": "code",
   "execution_count": 132,
   "metadata": {},
   "outputs": [
    {
     "data": {
      "text/html": [
       "<div>\n",
       "<style scoped>\n",
       "    .dataframe tbody tr th:only-of-type {\n",
       "        vertical-align: middle;\n",
       "    }\n",
       "\n",
       "    .dataframe tbody tr th {\n",
       "        vertical-align: top;\n",
       "    }\n",
       "\n",
       "    .dataframe thead th {\n",
       "        text-align: right;\n",
       "    }\n",
       "</style>\n",
       "<table border=\"1\" class=\"dataframe\">\n",
       "  <thead>\n",
       "    <tr style=\"text-align: right;\">\n",
       "      <th></th>\n",
       "      <th>Model</th>\n",
       "      <th>Coefficients</th>\n",
       "      <th>R-squared</th>\n",
       "      <th>BIC</th>\n",
       "      <th>Training RMSE</th>\n",
       "      <th>Test RMSE</th>\n",
       "      <th>Time</th>\n",
       "    </tr>\n",
       "  </thead>\n",
       "  <tbody>\n",
       "    <tr>\n",
       "      <th>0</th>\n",
       "      <td>M1</td>\n",
       "      <td>2</td>\n",
       "      <td>0.38</td>\n",
       "      <td>101477</td>\n",
       "      <td>84.23</td>\n",
       "      <td>84.25</td>\n",
       "      <td>0.10</td>\n",
       "    </tr>\n",
       "    <tr>\n",
       "      <th>1</th>\n",
       "      <td>M2</td>\n",
       "      <td>8</td>\n",
       "      <td>0.41</td>\n",
       "      <td>101110</td>\n",
       "      <td>82.2</td>\n",
       "      <td>82.31</td>\n",
       "      <td>0.25</td>\n",
       "    </tr>\n",
       "    <tr>\n",
       "      <th>2</th>\n",
       "      <td>M3</td>\n",
       "      <td>16</td>\n",
       "      <td>0.42</td>\n",
       "      <td>101061</td>\n",
       "      <td>81.62</td>\n",
       "      <td>81.82</td>\n",
       "      <td>0.40</td>\n",
       "    </tr>\n",
       "    <tr>\n",
       "      <th>3</th>\n",
       "      <td>M4</td>\n",
       "      <td>19</td>\n",
       "      <td>0.43</td>\n",
       "      <td>100899</td>\n",
       "      <td>80.72</td>\n",
       "      <td>80.99</td>\n",
       "      <td>0.45</td>\n",
       "    </tr>\n",
       "    <tr>\n",
       "      <th>4</th>\n",
       "      <td>M5</td>\n",
       "      <td>36</td>\n",
       "      <td>0.45</td>\n",
       "      <td>100723</td>\n",
       "      <td>79.18</td>\n",
       "      <td>79.65</td>\n",
       "      <td>0.84</td>\n",
       "    </tr>\n",
       "    <tr>\n",
       "      <th>5</th>\n",
       "      <td>M6</td>\n",
       "      <td>46</td>\n",
       "      <td>0.5</td>\n",
       "      <td>99920</td>\n",
       "      <td>75.18</td>\n",
       "      <td>75.87</td>\n",
       "      <td>1.01</td>\n",
       "    </tr>\n",
       "    <tr>\n",
       "      <th>6</th>\n",
       "      <td>M7</td>\n",
       "      <td>96</td>\n",
       "      <td>0.54</td>\n",
       "      <td>99624</td>\n",
       "      <td>71.95</td>\n",
       "      <td>73.13</td>\n",
       "      <td>2.37</td>\n",
       "    </tr>\n",
       "    <tr>\n",
       "      <th>7</th>\n",
       "      <td>Lasso</td>\n",
       "      <td>91</td>\n",
       "      <td>None</td>\n",
       "      <td>None</td>\n",
       "      <td>None</td>\n",
       "      <td>73.08</td>\n",
       "      <td>0.43</td>\n",
       "    </tr>\n",
       "    <tr>\n",
       "      <th>8</th>\n",
       "      <td>Random Forest</td>\n",
       "      <td>102</td>\n",
       "      <td>N/A</td>\n",
       "      <td>N/A</td>\n",
       "      <td>N/A</td>\n",
       "      <td>68.26</td>\n",
       "      <td>81.99</td>\n",
       "    </tr>\n",
       "    <tr>\n",
       "      <th>9</th>\n",
       "      <td>XGBoost</td>\n",
       "      <td>102</td>\n",
       "      <td>N/A</td>\n",
       "      <td>N/A</td>\n",
       "      <td>N/A</td>\n",
       "      <td>63.90</td>\n",
       "      <td>4.12</td>\n",
       "    </tr>\n",
       "    <tr>\n",
       "      <th>10</th>\n",
       "      <td>XGBoost</td>\n",
       "      <td>102</td>\n",
       "      <td>N/A</td>\n",
       "      <td>N/A</td>\n",
       "      <td>N/A</td>\n",
       "      <td>63.90</td>\n",
       "      <td>4.12</td>\n",
       "    </tr>\n",
       "  </tbody>\n",
       "</table>\n",
       "</div>"
      ],
      "text/plain": [
       "            Model  Coefficients R-squared     BIC Training RMSE  Test RMSE  \\\n",
       "0              M1             2      0.38  101477         84.23      84.25   \n",
       "1              M2             8      0.41  101110          82.2      82.31   \n",
       "2              M3            16      0.42  101061         81.62      81.82   \n",
       "3              M4            19      0.43  100899         80.72      80.99   \n",
       "4              M5            36      0.45  100723         79.18      79.65   \n",
       "5              M6            46       0.5   99920         75.18      75.87   \n",
       "6              M7            96      0.54   99624         71.95      73.13   \n",
       "7           Lasso            91      None    None          None      73.08   \n",
       "8   Random Forest           102       N/A     N/A           N/A      68.26   \n",
       "9         XGBoost           102       N/A     N/A           N/A      63.90   \n",
       "10        XGBoost           102       N/A     N/A           N/A      63.90   \n",
       "\n",
       "     Time  \n",
       "0    0.10  \n",
       "1    0.25  \n",
       "2    0.40  \n",
       "3    0.45  \n",
       "4    0.84  \n",
       "5    1.01  \n",
       "6    2.37  \n",
       "7    0.43  \n",
       "8   81.99  \n",
       "9    4.12  \n",
       "10   4.12  "
      ]
     },
     "execution_count": 132,
     "metadata": {},
     "output_type": "execute_result"
    }
   ],
   "source": [
    "compare_model_fits.loc[9, :] = {\n",
    "    \"Model\": \"XGBoost\",\n",
    "    \"Coefficients\": X_train.shape[1],\n",
    "    \"R-squared\": \"N/A\",\n",
    "    \"BIC\": \"N/A\",\n",
    "    \"Training RMSE\": \"N/A\",\n",
    "    \"Test RMSE\": round(xgb_rmse, 2),\n",
    "    \"Time\": xgb_time\n",
    "}\n",
    "\n",
    "compare_model_fits"
   ]
  },
  {
   "cell_type": "markdown",
   "metadata": {},
   "source": [
    "# Part 3."
   ]
  },
  {
   "cell_type": "code",
   "execution_count": null,
   "metadata": {},
   "outputs": [],
   "source": []
  },
  {
   "cell_type": "markdown",
   "metadata": {},
   "source": []
  },
  {
   "cell_type": "code",
   "execution_count": null,
   "metadata": {},
   "outputs": [],
   "source": []
  },
  {
   "cell_type": "code",
   "execution_count": null,
   "metadata": {},
   "outputs": [],
   "source": []
  },
  {
   "cell_type": "code",
   "execution_count": null,
   "metadata": {},
   "outputs": [],
   "source": []
  }
 ],
 "metadata": {
  "kernelspec": {
   "display_name": "base",
   "language": "python",
   "name": "python3"
  },
  "language_info": {
   "codemirror_mode": {
    "name": "ipython",
    "version": 3
   },
   "file_extension": ".py",
   "mimetype": "text/x-python",
   "name": "python",
   "nbconvert_exporter": "python",
   "pygments_lexer": "ipython3",
   "version": "3.8.8"
  }
 },
 "nbformat": 4,
 "nbformat_minor": 2
}
